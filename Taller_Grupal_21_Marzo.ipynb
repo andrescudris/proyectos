{
  "nbformat": 4,
  "nbformat_minor": 0,
  "metadata": {
    "colab": {
      "name": "Taller Grupal 21 Marzo",
      "provenance": [],
      "collapsed_sections": []
    },
    "kernelspec": {
      "name": "python3",
      "display_name": "Python 3"
    },
    "language_info": {
      "name": "python"
    }
  },
  "cells": [
    {
      "cell_type": "code",
      "execution_count": 205,
      "metadata": {
        "id": "tHgcABe69QKg",
        "colab": {
          "base_uri": "https://localhost:8080/"
        },
        "outputId": "f4fbe597-05cc-4357-e580-5b2df884ec15"
      },
      "outputs": [
        {
          "output_type": "stream",
          "name": "stderr",
          "text": [
            "/usr/local/lib/python3.7/dist-packages/statsmodels/tools/_testing.py:19: FutureWarning: pandas.util.testing is deprecated. Use the functions in the public API at pandas.testing instead.\n",
            "  import pandas.util.testing as tm\n"
          ]
        }
      ],
      "source": [
        "import pandas as pd\n",
        "import numpy as np\n",
        "import matplotlib.pyplot as plt\n",
        "import seaborn as sns\n",
        "from scipy.stats import mode\n",
        "import statsmodels.api as sm"
      ]
    },
    {
      "cell_type": "code",
      "source": [
        "df = pd.read_csv(\"archivo.csv\")"
      ],
      "metadata": {
        "id": "kioZnha2-yYf"
      },
      "execution_count": 206,
      "outputs": []
    },
    {
      "cell_type": "code",
      "source": [
        "df.info()"
      ],
      "metadata": {
        "id": "Jjs2_s9T_4rC",
        "outputId": "6860e5ca-7d08-4da1-bd8c-c13a20b0cac3",
        "colab": {
          "base_uri": "https://localhost:8080/"
        }
      },
      "execution_count": 207,
      "outputs": [
        {
          "output_type": "stream",
          "name": "stdout",
          "text": [
            "<class 'pandas.core.frame.DataFrame'>\n",
            "RangeIndex: 46327 entries, 0 to 46326\n",
            "Data columns (total 41 columns):\n",
            " #   Column                             Non-Null Count  Dtype  \n",
            "---  ------                             --------------  -----  \n",
            " 0   LLAVE_HOGAR                        46327 non-null  int64  \n",
            " 1   sexo                               46327 non-null  object \n",
            " 2   edad                               46327 non-null  int64  \n",
            " 3   parentesco_jefe_hogar              46327 non-null  object \n",
            " 4   estado_civil                       39867 non-null  object \n",
            " 5   viaje_noche_fuera                  39867 non-null  object \n",
            " 6   motivo_viaje                       3898 non-null   object \n",
            " 7   compañía_viaje                     3898 non-null   object \n",
            " 8   destino_depto                      3898 non-null   object \n",
            " 9   destino_municipio                  3898 non-null   object \n",
            " 10  monto_ultimo_viaje                 3898 non-null   float64\n",
            " 11  num_viajes_12_meses                3847 non-null   float64\n",
            " 12  destino_depto_12_meses             3898 non-null   object \n",
            " 13  destino_municipio_12_meses         3898 non-null   object \n",
            " 14  gastos_alojamiento_valor           696 non-null    float64\n",
            " 15  gastos_transporte_valor            2476 non-null   float64\n",
            " 16  gastos_trans_publico_lugar_valor   889 non-null    float64\n",
            " 17  gastos_bienes_personales_valor     543 non-null    float64\n",
            " 18  gastos_regalos_valor               461 non-null    float64\n",
            " 19  gastos_otros_valor                 749 non-null    float64\n",
            " 20  gastos_transporte_aereo_valor      298 non-null    float64\n",
            " 21  leer_escribir                      44489 non-null  object \n",
            " 22  nivel_educativo                    44489 non-null  object \n",
            " 23  grado_alcanzado                    44489 non-null  float64\n",
            " 24  diploma_obtenido                   24168 non-null  object \n",
            " 25  area                               46327 non-null  object \n",
            " 26  estrato                            46305 non-null  float64\n",
            " 27  num_noches                         3898 non-null   object \n",
            " 28  tipo_vivienda                      46327 non-null  object \n",
            " 29  ingresos_trabajo                   46327 non-null  object \n",
            " 30  ingresos_subsidios_ayudas          46327 non-null  object \n",
            " 31  ingresos_jubilación_invalidez      46327 non-null  object \n",
            " 32  ingresos_sostenimiento_menores     46327 non-null  object \n",
            " 33  ingresos_subsidios_vivienda        46327 non-null  object \n",
            " 34  ingresos_subsidios_educación       46327 non-null  object \n",
            " 35  ingresos_arriendos_finca_raiz      46327 non-null  object \n",
            " 36  ingresos_transferencias            46327 non-null  object \n",
            " 37  ninguna_fuente_ingresos            729 non-null    object \n",
            " 38  principal_fuente_ingreso           45598 non-null  object \n",
            " 39  ingreso_mensual_aprox_sin_fuentes  729 non-null    float64\n",
            " 40  ingreso_mensual_aprox              45598 non-null  float64\n",
            "dtypes: float64(13), int64(2), object(26)\n",
            "memory usage: 14.5+ MB\n"
          ]
        }
      ]
    },
    {
      "cell_type": "code",
      "source": [
        "#¿ si la ultima semana viajo o no? buscar cinco varialbes de no viajar o no area: departamento de la persona"
      ],
      "metadata": {
        "id": "0tKfDc78_6OJ"
      },
      "execution_count": 208,
      "outputs": []
    },
    {
      "cell_type": "code",
      "source": [
        "#40, 5, 26, 4, 25, 22 "
      ],
      "metadata": {
        "id": "zFR3mWr7A0mK"
      },
      "execution_count": 209,
      "outputs": []
    },
    {
      "cell_type": "code",
      "source": [
        "df = df[[\"parentesco_jefe_hogar\", \"estado_civil\",\"viaje_noche_fuera\",\"nivel_educativo\",\"edad\",\"estrato\"]]"
      ],
      "metadata": {
        "id": "I3v8NaC9DThQ"
      },
      "execution_count": 210,
      "outputs": []
    },
    {
      "cell_type": "code",
      "source": [
        "df"
      ],
      "metadata": {
        "colab": {
          "base_uri": "https://localhost:8080/",
          "height": 424
        },
        "id": "sD0llNbtDzd2",
        "outputId": "dec4627a-3cb0-4341-c28d-3abc4bf8ee14"
      },
      "execution_count": 211,
      "outputs": [
        {
          "output_type": "execute_result",
          "data": {
            "text/plain": [
              "      parentesco_jefe_hogar         estado_civil viaje_noche_fuera  \\\n",
              "0                jefe_hogar              soltero                no   \n",
              "1                      hijo              soltero                no   \n",
              "2                     nieto                  NaN               NaN   \n",
              "3                jefe_hogar  separado_divorciado                no   \n",
              "4                      hijo              soltero                no   \n",
              "...                     ...                  ...               ...   \n",
              "46322                  hijo              soltero                no   \n",
              "46323         otro_pariente                viudo                no   \n",
              "46324            jefe_hogar               casado                si   \n",
              "46325                pareja               casado                si   \n",
              "46326         otro_pariente              soltero                si   \n",
              "\n",
              "              nivel_educativo  edad  estrato  \n",
              "0             basica_primaria    56      1.0  \n",
              "1                       media    25      1.0  \n",
              "2                         NaN     1      1.0  \n",
              "3           basica_secundaria    39      1.0  \n",
              "4           basica_secundaria    14      1.0  \n",
              "...                       ...   ...      ...  \n",
              "46322                   media    16      3.0  \n",
              "46323       basica_secundaria    76      3.0  \n",
              "46324                   media    61      2.0  \n",
              "46325  superior_universitaria    60      2.0  \n",
              "46326         basica_primaria    65      2.0  \n",
              "\n",
              "[46327 rows x 6 columns]"
            ],
            "text/html": [
              "\n",
              "  <div id=\"df-4bbbfe65-4e84-4837-9660-29e64a56686d\">\n",
              "    <div class=\"colab-df-container\">\n",
              "      <div>\n",
              "<style scoped>\n",
              "    .dataframe tbody tr th:only-of-type {\n",
              "        vertical-align: middle;\n",
              "    }\n",
              "\n",
              "    .dataframe tbody tr th {\n",
              "        vertical-align: top;\n",
              "    }\n",
              "\n",
              "    .dataframe thead th {\n",
              "        text-align: right;\n",
              "    }\n",
              "</style>\n",
              "<table border=\"1\" class=\"dataframe\">\n",
              "  <thead>\n",
              "    <tr style=\"text-align: right;\">\n",
              "      <th></th>\n",
              "      <th>parentesco_jefe_hogar</th>\n",
              "      <th>estado_civil</th>\n",
              "      <th>viaje_noche_fuera</th>\n",
              "      <th>nivel_educativo</th>\n",
              "      <th>edad</th>\n",
              "      <th>estrato</th>\n",
              "    </tr>\n",
              "  </thead>\n",
              "  <tbody>\n",
              "    <tr>\n",
              "      <th>0</th>\n",
              "      <td>jefe_hogar</td>\n",
              "      <td>soltero</td>\n",
              "      <td>no</td>\n",
              "      <td>basica_primaria</td>\n",
              "      <td>56</td>\n",
              "      <td>1.0</td>\n",
              "    </tr>\n",
              "    <tr>\n",
              "      <th>1</th>\n",
              "      <td>hijo</td>\n",
              "      <td>soltero</td>\n",
              "      <td>no</td>\n",
              "      <td>media</td>\n",
              "      <td>25</td>\n",
              "      <td>1.0</td>\n",
              "    </tr>\n",
              "    <tr>\n",
              "      <th>2</th>\n",
              "      <td>nieto</td>\n",
              "      <td>NaN</td>\n",
              "      <td>NaN</td>\n",
              "      <td>NaN</td>\n",
              "      <td>1</td>\n",
              "      <td>1.0</td>\n",
              "    </tr>\n",
              "    <tr>\n",
              "      <th>3</th>\n",
              "      <td>jefe_hogar</td>\n",
              "      <td>separado_divorciado</td>\n",
              "      <td>no</td>\n",
              "      <td>basica_secundaria</td>\n",
              "      <td>39</td>\n",
              "      <td>1.0</td>\n",
              "    </tr>\n",
              "    <tr>\n",
              "      <th>4</th>\n",
              "      <td>hijo</td>\n",
              "      <td>soltero</td>\n",
              "      <td>no</td>\n",
              "      <td>basica_secundaria</td>\n",
              "      <td>14</td>\n",
              "      <td>1.0</td>\n",
              "    </tr>\n",
              "    <tr>\n",
              "      <th>...</th>\n",
              "      <td>...</td>\n",
              "      <td>...</td>\n",
              "      <td>...</td>\n",
              "      <td>...</td>\n",
              "      <td>...</td>\n",
              "      <td>...</td>\n",
              "    </tr>\n",
              "    <tr>\n",
              "      <th>46322</th>\n",
              "      <td>hijo</td>\n",
              "      <td>soltero</td>\n",
              "      <td>no</td>\n",
              "      <td>media</td>\n",
              "      <td>16</td>\n",
              "      <td>3.0</td>\n",
              "    </tr>\n",
              "    <tr>\n",
              "      <th>46323</th>\n",
              "      <td>otro_pariente</td>\n",
              "      <td>viudo</td>\n",
              "      <td>no</td>\n",
              "      <td>basica_secundaria</td>\n",
              "      <td>76</td>\n",
              "      <td>3.0</td>\n",
              "    </tr>\n",
              "    <tr>\n",
              "      <th>46324</th>\n",
              "      <td>jefe_hogar</td>\n",
              "      <td>casado</td>\n",
              "      <td>si</td>\n",
              "      <td>media</td>\n",
              "      <td>61</td>\n",
              "      <td>2.0</td>\n",
              "    </tr>\n",
              "    <tr>\n",
              "      <th>46325</th>\n",
              "      <td>pareja</td>\n",
              "      <td>casado</td>\n",
              "      <td>si</td>\n",
              "      <td>superior_universitaria</td>\n",
              "      <td>60</td>\n",
              "      <td>2.0</td>\n",
              "    </tr>\n",
              "    <tr>\n",
              "      <th>46326</th>\n",
              "      <td>otro_pariente</td>\n",
              "      <td>soltero</td>\n",
              "      <td>si</td>\n",
              "      <td>basica_primaria</td>\n",
              "      <td>65</td>\n",
              "      <td>2.0</td>\n",
              "    </tr>\n",
              "  </tbody>\n",
              "</table>\n",
              "<p>46327 rows × 6 columns</p>\n",
              "</div>\n",
              "      <button class=\"colab-df-convert\" onclick=\"convertToInteractive('df-4bbbfe65-4e84-4837-9660-29e64a56686d')\"\n",
              "              title=\"Convert this dataframe to an interactive table.\"\n",
              "              style=\"display:none;\">\n",
              "        \n",
              "  <svg xmlns=\"http://www.w3.org/2000/svg\" height=\"24px\"viewBox=\"0 0 24 24\"\n",
              "       width=\"24px\">\n",
              "    <path d=\"M0 0h24v24H0V0z\" fill=\"none\"/>\n",
              "    <path d=\"M18.56 5.44l.94 2.06.94-2.06 2.06-.94-2.06-.94-.94-2.06-.94 2.06-2.06.94zm-11 1L8.5 8.5l.94-2.06 2.06-.94-2.06-.94L8.5 2.5l-.94 2.06-2.06.94zm10 10l.94 2.06.94-2.06 2.06-.94-2.06-.94-.94-2.06-.94 2.06-2.06.94z\"/><path d=\"M17.41 7.96l-1.37-1.37c-.4-.4-.92-.59-1.43-.59-.52 0-1.04.2-1.43.59L10.3 9.45l-7.72 7.72c-.78.78-.78 2.05 0 2.83L4 21.41c.39.39.9.59 1.41.59.51 0 1.02-.2 1.41-.59l7.78-7.78 2.81-2.81c.8-.78.8-2.07 0-2.86zM5.41 20L4 18.59l7.72-7.72 1.47 1.35L5.41 20z\"/>\n",
              "  </svg>\n",
              "      </button>\n",
              "      \n",
              "  <style>\n",
              "    .colab-df-container {\n",
              "      display:flex;\n",
              "      flex-wrap:wrap;\n",
              "      gap: 12px;\n",
              "    }\n",
              "\n",
              "    .colab-df-convert {\n",
              "      background-color: #E8F0FE;\n",
              "      border: none;\n",
              "      border-radius: 50%;\n",
              "      cursor: pointer;\n",
              "      display: none;\n",
              "      fill: #1967D2;\n",
              "      height: 32px;\n",
              "      padding: 0 0 0 0;\n",
              "      width: 32px;\n",
              "    }\n",
              "\n",
              "    .colab-df-convert:hover {\n",
              "      background-color: #E2EBFA;\n",
              "      box-shadow: 0px 1px 2px rgba(60, 64, 67, 0.3), 0px 1px 3px 1px rgba(60, 64, 67, 0.15);\n",
              "      fill: #174EA6;\n",
              "    }\n",
              "\n",
              "    [theme=dark] .colab-df-convert {\n",
              "      background-color: #3B4455;\n",
              "      fill: #D2E3FC;\n",
              "    }\n",
              "\n",
              "    [theme=dark] .colab-df-convert:hover {\n",
              "      background-color: #434B5C;\n",
              "      box-shadow: 0px 1px 3px 1px rgba(0, 0, 0, 0.15);\n",
              "      filter: drop-shadow(0px 1px 2px rgba(0, 0, 0, 0.3));\n",
              "      fill: #FFFFFF;\n",
              "    }\n",
              "  </style>\n",
              "\n",
              "      <script>\n",
              "        const buttonEl =\n",
              "          document.querySelector('#df-4bbbfe65-4e84-4837-9660-29e64a56686d button.colab-df-convert');\n",
              "        buttonEl.style.display =\n",
              "          google.colab.kernel.accessAllowed ? 'block' : 'none';\n",
              "\n",
              "        async function convertToInteractive(key) {\n",
              "          const element = document.querySelector('#df-4bbbfe65-4e84-4837-9660-29e64a56686d');\n",
              "          const dataTable =\n",
              "            await google.colab.kernel.invokeFunction('convertToInteractive',\n",
              "                                                     [key], {});\n",
              "          if (!dataTable) return;\n",
              "\n",
              "          const docLinkHtml = 'Like what you see? Visit the ' +\n",
              "            '<a target=\"_blank\" href=https://colab.research.google.com/notebooks/data_table.ipynb>data table notebook</a>'\n",
              "            + ' to learn more about interactive tables.';\n",
              "          element.innerHTML = '';\n",
              "          dataTable['output_type'] = 'display_data';\n",
              "          await google.colab.output.renderOutput(dataTable, element);\n",
              "          const docLink = document.createElement('div');\n",
              "          docLink.innerHTML = docLinkHtml;\n",
              "          element.appendChild(docLink);\n",
              "        }\n",
              "      </script>\n",
              "    </div>\n",
              "  </div>\n",
              "  "
            ]
          },
          "metadata": {},
          "execution_count": 211
        }
      ]
    },
    {
      "cell_type": "code",
      "source": [
        "df = df[df[\"parentesco_jefe_hogar\"] == \"jefe_hogar\"]"
      ],
      "metadata": {
        "id": "fueN9zRQD0Yt"
      },
      "execution_count": 212,
      "outputs": []
    },
    {
      "cell_type": "code",
      "source": [
        "df = df[~df[\"viaje_noche_fuera\"].isna()]"
      ],
      "metadata": {
        "id": "AzqP2ttYIA9F"
      },
      "execution_count": 213,
      "outputs": []
    },
    {
      "cell_type": "code",
      "source": [
        "df = df[df[\"estrato\"] < 9.0]"
      ],
      "metadata": {
        "id": "HjWIN7CiKAib"
      },
      "execution_count": 214,
      "outputs": []
    },
    {
      "cell_type": "code",
      "source": [
        "df[\"viaje_noche_fuera\"].value_counts(dropna=False)"
      ],
      "metadata": {
        "colab": {
          "base_uri": "https://localhost:8080/"
        },
        "id": "CVDtH7KyGJSH",
        "outputId": "b29b6317-1b91-468d-f9c7-4d1f4f868c51"
      },
      "execution_count": 215,
      "outputs": [
        {
          "output_type": "execute_result",
          "data": {
            "text/plain": [
              "no    12349\n",
              "si     1667\n",
              "Name: viaje_noche_fuera, dtype: int64"
            ]
          },
          "metadata": {},
          "execution_count": 215
        }
      ]
    },
    {
      "cell_type": "code",
      "source": [
        "df[\"viaje_noche_fuera\"].value_counts(dropna=False)"
      ],
      "metadata": {
        "colab": {
          "base_uri": "https://localhost:8080/"
        },
        "id": "1EYjGtA6HhHw",
        "outputId": "ca7f3ed0-3f2f-459f-d386-474a748e2829"
      },
      "execution_count": 216,
      "outputs": [
        {
          "output_type": "execute_result",
          "data": {
            "text/plain": [
              "no    12349\n",
              "si     1667\n",
              "Name: viaje_noche_fuera, dtype: int64"
            ]
          },
          "metadata": {},
          "execution_count": 216
        }
      ]
    },
    {
      "cell_type": "code",
      "source": [
        "df"
      ],
      "metadata": {
        "colab": {
          "base_uri": "https://localhost:8080/",
          "height": 424
        },
        "id": "xjV5FXKxIPCV",
        "outputId": "d9c9127a-d494-4e9f-88af-20d17c2f91b1"
      },
      "execution_count": 217,
      "outputs": [
        {
          "output_type": "execute_result",
          "data": {
            "text/plain": [
              "      parentesco_jefe_hogar           estado_civil viaje_noche_fuera  \\\n",
              "0                jefe_hogar                soltero                no   \n",
              "3                jefe_hogar    separado_divorciado                no   \n",
              "6                jefe_hogar                  viudo                no   \n",
              "7                jefe_hogar  pareja_no_union_libre                no   \n",
              "10               jefe_hogar     pareja_union_libre                no   \n",
              "...                     ...                    ...               ...   \n",
              "46305            jefe_hogar                 casado                no   \n",
              "46309            jefe_hogar    separado_divorciado                no   \n",
              "46316            jefe_hogar                 casado                no   \n",
              "46320            jefe_hogar                 casado                no   \n",
              "46324            jefe_hogar                 casado                si   \n",
              "\n",
              "              nivel_educativo  edad  estrato  \n",
              "0             basica_primaria    56      1.0  \n",
              "3           basica_secundaria    39      1.0  \n",
              "6             basica_primaria    68      1.0  \n",
              "7             basica_primaria    34      1.0  \n",
              "10                      media    25      1.0  \n",
              "...                       ...   ...      ...  \n",
              "46305  superior_universitaria    63      2.0  \n",
              "46309  superior_universitaria    66      1.0  \n",
              "46316                   media    71      4.0  \n",
              "46320                   media    50      3.0  \n",
              "46324                   media    61      2.0  \n",
              "\n",
              "[14016 rows x 6 columns]"
            ],
            "text/html": [
              "\n",
              "  <div id=\"df-1931b174-cf4a-4417-89ed-006d5594c4f0\">\n",
              "    <div class=\"colab-df-container\">\n",
              "      <div>\n",
              "<style scoped>\n",
              "    .dataframe tbody tr th:only-of-type {\n",
              "        vertical-align: middle;\n",
              "    }\n",
              "\n",
              "    .dataframe tbody tr th {\n",
              "        vertical-align: top;\n",
              "    }\n",
              "\n",
              "    .dataframe thead th {\n",
              "        text-align: right;\n",
              "    }\n",
              "</style>\n",
              "<table border=\"1\" class=\"dataframe\">\n",
              "  <thead>\n",
              "    <tr style=\"text-align: right;\">\n",
              "      <th></th>\n",
              "      <th>parentesco_jefe_hogar</th>\n",
              "      <th>estado_civil</th>\n",
              "      <th>viaje_noche_fuera</th>\n",
              "      <th>nivel_educativo</th>\n",
              "      <th>edad</th>\n",
              "      <th>estrato</th>\n",
              "    </tr>\n",
              "  </thead>\n",
              "  <tbody>\n",
              "    <tr>\n",
              "      <th>0</th>\n",
              "      <td>jefe_hogar</td>\n",
              "      <td>soltero</td>\n",
              "      <td>no</td>\n",
              "      <td>basica_primaria</td>\n",
              "      <td>56</td>\n",
              "      <td>1.0</td>\n",
              "    </tr>\n",
              "    <tr>\n",
              "      <th>3</th>\n",
              "      <td>jefe_hogar</td>\n",
              "      <td>separado_divorciado</td>\n",
              "      <td>no</td>\n",
              "      <td>basica_secundaria</td>\n",
              "      <td>39</td>\n",
              "      <td>1.0</td>\n",
              "    </tr>\n",
              "    <tr>\n",
              "      <th>6</th>\n",
              "      <td>jefe_hogar</td>\n",
              "      <td>viudo</td>\n",
              "      <td>no</td>\n",
              "      <td>basica_primaria</td>\n",
              "      <td>68</td>\n",
              "      <td>1.0</td>\n",
              "    </tr>\n",
              "    <tr>\n",
              "      <th>7</th>\n",
              "      <td>jefe_hogar</td>\n",
              "      <td>pareja_no_union_libre</td>\n",
              "      <td>no</td>\n",
              "      <td>basica_primaria</td>\n",
              "      <td>34</td>\n",
              "      <td>1.0</td>\n",
              "    </tr>\n",
              "    <tr>\n",
              "      <th>10</th>\n",
              "      <td>jefe_hogar</td>\n",
              "      <td>pareja_union_libre</td>\n",
              "      <td>no</td>\n",
              "      <td>media</td>\n",
              "      <td>25</td>\n",
              "      <td>1.0</td>\n",
              "    </tr>\n",
              "    <tr>\n",
              "      <th>...</th>\n",
              "      <td>...</td>\n",
              "      <td>...</td>\n",
              "      <td>...</td>\n",
              "      <td>...</td>\n",
              "      <td>...</td>\n",
              "      <td>...</td>\n",
              "    </tr>\n",
              "    <tr>\n",
              "      <th>46305</th>\n",
              "      <td>jefe_hogar</td>\n",
              "      <td>casado</td>\n",
              "      <td>no</td>\n",
              "      <td>superior_universitaria</td>\n",
              "      <td>63</td>\n",
              "      <td>2.0</td>\n",
              "    </tr>\n",
              "    <tr>\n",
              "      <th>46309</th>\n",
              "      <td>jefe_hogar</td>\n",
              "      <td>separado_divorciado</td>\n",
              "      <td>no</td>\n",
              "      <td>superior_universitaria</td>\n",
              "      <td>66</td>\n",
              "      <td>1.0</td>\n",
              "    </tr>\n",
              "    <tr>\n",
              "      <th>46316</th>\n",
              "      <td>jefe_hogar</td>\n",
              "      <td>casado</td>\n",
              "      <td>no</td>\n",
              "      <td>media</td>\n",
              "      <td>71</td>\n",
              "      <td>4.0</td>\n",
              "    </tr>\n",
              "    <tr>\n",
              "      <th>46320</th>\n",
              "      <td>jefe_hogar</td>\n",
              "      <td>casado</td>\n",
              "      <td>no</td>\n",
              "      <td>media</td>\n",
              "      <td>50</td>\n",
              "      <td>3.0</td>\n",
              "    </tr>\n",
              "    <tr>\n",
              "      <th>46324</th>\n",
              "      <td>jefe_hogar</td>\n",
              "      <td>casado</td>\n",
              "      <td>si</td>\n",
              "      <td>media</td>\n",
              "      <td>61</td>\n",
              "      <td>2.0</td>\n",
              "    </tr>\n",
              "  </tbody>\n",
              "</table>\n",
              "<p>14016 rows × 6 columns</p>\n",
              "</div>\n",
              "      <button class=\"colab-df-convert\" onclick=\"convertToInteractive('df-1931b174-cf4a-4417-89ed-006d5594c4f0')\"\n",
              "              title=\"Convert this dataframe to an interactive table.\"\n",
              "              style=\"display:none;\">\n",
              "        \n",
              "  <svg xmlns=\"http://www.w3.org/2000/svg\" height=\"24px\"viewBox=\"0 0 24 24\"\n",
              "       width=\"24px\">\n",
              "    <path d=\"M0 0h24v24H0V0z\" fill=\"none\"/>\n",
              "    <path d=\"M18.56 5.44l.94 2.06.94-2.06 2.06-.94-2.06-.94-.94-2.06-.94 2.06-2.06.94zm-11 1L8.5 8.5l.94-2.06 2.06-.94-2.06-.94L8.5 2.5l-.94 2.06-2.06.94zm10 10l.94 2.06.94-2.06 2.06-.94-2.06-.94-.94-2.06-.94 2.06-2.06.94z\"/><path d=\"M17.41 7.96l-1.37-1.37c-.4-.4-.92-.59-1.43-.59-.52 0-1.04.2-1.43.59L10.3 9.45l-7.72 7.72c-.78.78-.78 2.05 0 2.83L4 21.41c.39.39.9.59 1.41.59.51 0 1.02-.2 1.41-.59l7.78-7.78 2.81-2.81c.8-.78.8-2.07 0-2.86zM5.41 20L4 18.59l7.72-7.72 1.47 1.35L5.41 20z\"/>\n",
              "  </svg>\n",
              "      </button>\n",
              "      \n",
              "  <style>\n",
              "    .colab-df-container {\n",
              "      display:flex;\n",
              "      flex-wrap:wrap;\n",
              "      gap: 12px;\n",
              "    }\n",
              "\n",
              "    .colab-df-convert {\n",
              "      background-color: #E8F0FE;\n",
              "      border: none;\n",
              "      border-radius: 50%;\n",
              "      cursor: pointer;\n",
              "      display: none;\n",
              "      fill: #1967D2;\n",
              "      height: 32px;\n",
              "      padding: 0 0 0 0;\n",
              "      width: 32px;\n",
              "    }\n",
              "\n",
              "    .colab-df-convert:hover {\n",
              "      background-color: #E2EBFA;\n",
              "      box-shadow: 0px 1px 2px rgba(60, 64, 67, 0.3), 0px 1px 3px 1px rgba(60, 64, 67, 0.15);\n",
              "      fill: #174EA6;\n",
              "    }\n",
              "\n",
              "    [theme=dark] .colab-df-convert {\n",
              "      background-color: #3B4455;\n",
              "      fill: #D2E3FC;\n",
              "    }\n",
              "\n",
              "    [theme=dark] .colab-df-convert:hover {\n",
              "      background-color: #434B5C;\n",
              "      box-shadow: 0px 1px 3px 1px rgba(0, 0, 0, 0.15);\n",
              "      filter: drop-shadow(0px 1px 2px rgba(0, 0, 0, 0.3));\n",
              "      fill: #FFFFFF;\n",
              "    }\n",
              "  </style>\n",
              "\n",
              "      <script>\n",
              "        const buttonEl =\n",
              "          document.querySelector('#df-1931b174-cf4a-4417-89ed-006d5594c4f0 button.colab-df-convert');\n",
              "        buttonEl.style.display =\n",
              "          google.colab.kernel.accessAllowed ? 'block' : 'none';\n",
              "\n",
              "        async function convertToInteractive(key) {\n",
              "          const element = document.querySelector('#df-1931b174-cf4a-4417-89ed-006d5594c4f0');\n",
              "          const dataTable =\n",
              "            await google.colab.kernel.invokeFunction('convertToInteractive',\n",
              "                                                     [key], {});\n",
              "          if (!dataTable) return;\n",
              "\n",
              "          const docLinkHtml = 'Like what you see? Visit the ' +\n",
              "            '<a target=\"_blank\" href=https://colab.research.google.com/notebooks/data_table.ipynb>data table notebook</a>'\n",
              "            + ' to learn more about interactive tables.';\n",
              "          element.innerHTML = '';\n",
              "          dataTable['output_type'] = 'display_data';\n",
              "          await google.colab.output.renderOutput(dataTable, element);\n",
              "          const docLink = document.createElement('div');\n",
              "          docLink.innerHTML = docLinkHtml;\n",
              "          element.appendChild(docLink);\n",
              "        }\n",
              "      </script>\n",
              "    </div>\n",
              "  </div>\n",
              "  "
            ]
          },
          "metadata": {},
          "execution_count": 217
        }
      ]
    },
    {
      "cell_type": "markdown",
      "source": [
        ""
      ],
      "metadata": {
        "id": "FvB2fgTxJuIQ"
      }
    },
    {
      "cell_type": "code",
      "source": [
        "pd.crosstab(df[\"viaje_noche_fuera\"], df[\"estrato\"], normalize=True)"
      ],
      "metadata": {
        "colab": {
          "base_uri": "https://localhost:8080/",
          "height": 143
        },
        "id": "aDlr8oxNJcfr",
        "outputId": "a8160d2a-451c-4e5e-b580-0df04fdd33cc"
      },
      "execution_count": 218,
      "outputs": [
        {
          "output_type": "execute_result",
          "data": {
            "text/plain": [
              "estrato                 0.0       1.0       2.0       3.0       4.0       5.0  \\\n",
              "viaje_noche_fuera                                                               \n",
              "no                 0.003496  0.250428  0.319064  0.224600  0.056792  0.014697   \n",
              "si                 0.000071  0.019192  0.033818  0.041025  0.013342  0.006064   \n",
              "\n",
              "estrato                 6.0  \n",
              "viaje_noche_fuera            \n",
              "no                 0.011986  \n",
              "si                 0.005422  "
            ],
            "text/html": [
              "\n",
              "  <div id=\"df-dbf0c3c0-49e7-466d-9ae8-4d093395ce5e\">\n",
              "    <div class=\"colab-df-container\">\n",
              "      <div>\n",
              "<style scoped>\n",
              "    .dataframe tbody tr th:only-of-type {\n",
              "        vertical-align: middle;\n",
              "    }\n",
              "\n",
              "    .dataframe tbody tr th {\n",
              "        vertical-align: top;\n",
              "    }\n",
              "\n",
              "    .dataframe thead th {\n",
              "        text-align: right;\n",
              "    }\n",
              "</style>\n",
              "<table border=\"1\" class=\"dataframe\">\n",
              "  <thead>\n",
              "    <tr style=\"text-align: right;\">\n",
              "      <th>estrato</th>\n",
              "      <th>0.0</th>\n",
              "      <th>1.0</th>\n",
              "      <th>2.0</th>\n",
              "      <th>3.0</th>\n",
              "      <th>4.0</th>\n",
              "      <th>5.0</th>\n",
              "      <th>6.0</th>\n",
              "    </tr>\n",
              "    <tr>\n",
              "      <th>viaje_noche_fuera</th>\n",
              "      <th></th>\n",
              "      <th></th>\n",
              "      <th></th>\n",
              "      <th></th>\n",
              "      <th></th>\n",
              "      <th></th>\n",
              "      <th></th>\n",
              "    </tr>\n",
              "  </thead>\n",
              "  <tbody>\n",
              "    <tr>\n",
              "      <th>no</th>\n",
              "      <td>0.003496</td>\n",
              "      <td>0.250428</td>\n",
              "      <td>0.319064</td>\n",
              "      <td>0.224600</td>\n",
              "      <td>0.056792</td>\n",
              "      <td>0.014697</td>\n",
              "      <td>0.011986</td>\n",
              "    </tr>\n",
              "    <tr>\n",
              "      <th>si</th>\n",
              "      <td>0.000071</td>\n",
              "      <td>0.019192</td>\n",
              "      <td>0.033818</td>\n",
              "      <td>0.041025</td>\n",
              "      <td>0.013342</td>\n",
              "      <td>0.006064</td>\n",
              "      <td>0.005422</td>\n",
              "    </tr>\n",
              "  </tbody>\n",
              "</table>\n",
              "</div>\n",
              "      <button class=\"colab-df-convert\" onclick=\"convertToInteractive('df-dbf0c3c0-49e7-466d-9ae8-4d093395ce5e')\"\n",
              "              title=\"Convert this dataframe to an interactive table.\"\n",
              "              style=\"display:none;\">\n",
              "        \n",
              "  <svg xmlns=\"http://www.w3.org/2000/svg\" height=\"24px\"viewBox=\"0 0 24 24\"\n",
              "       width=\"24px\">\n",
              "    <path d=\"M0 0h24v24H0V0z\" fill=\"none\"/>\n",
              "    <path d=\"M18.56 5.44l.94 2.06.94-2.06 2.06-.94-2.06-.94-.94-2.06-.94 2.06-2.06.94zm-11 1L8.5 8.5l.94-2.06 2.06-.94-2.06-.94L8.5 2.5l-.94 2.06-2.06.94zm10 10l.94 2.06.94-2.06 2.06-.94-2.06-.94-.94-2.06-.94 2.06-2.06.94z\"/><path d=\"M17.41 7.96l-1.37-1.37c-.4-.4-.92-.59-1.43-.59-.52 0-1.04.2-1.43.59L10.3 9.45l-7.72 7.72c-.78.78-.78 2.05 0 2.83L4 21.41c.39.39.9.59 1.41.59.51 0 1.02-.2 1.41-.59l7.78-7.78 2.81-2.81c.8-.78.8-2.07 0-2.86zM5.41 20L4 18.59l7.72-7.72 1.47 1.35L5.41 20z\"/>\n",
              "  </svg>\n",
              "      </button>\n",
              "      \n",
              "  <style>\n",
              "    .colab-df-container {\n",
              "      display:flex;\n",
              "      flex-wrap:wrap;\n",
              "      gap: 12px;\n",
              "    }\n",
              "\n",
              "    .colab-df-convert {\n",
              "      background-color: #E8F0FE;\n",
              "      border: none;\n",
              "      border-radius: 50%;\n",
              "      cursor: pointer;\n",
              "      display: none;\n",
              "      fill: #1967D2;\n",
              "      height: 32px;\n",
              "      padding: 0 0 0 0;\n",
              "      width: 32px;\n",
              "    }\n",
              "\n",
              "    .colab-df-convert:hover {\n",
              "      background-color: #E2EBFA;\n",
              "      box-shadow: 0px 1px 2px rgba(60, 64, 67, 0.3), 0px 1px 3px 1px rgba(60, 64, 67, 0.15);\n",
              "      fill: #174EA6;\n",
              "    }\n",
              "\n",
              "    [theme=dark] .colab-df-convert {\n",
              "      background-color: #3B4455;\n",
              "      fill: #D2E3FC;\n",
              "    }\n",
              "\n",
              "    [theme=dark] .colab-df-convert:hover {\n",
              "      background-color: #434B5C;\n",
              "      box-shadow: 0px 1px 3px 1px rgba(0, 0, 0, 0.15);\n",
              "      filter: drop-shadow(0px 1px 2px rgba(0, 0, 0, 0.3));\n",
              "      fill: #FFFFFF;\n",
              "    }\n",
              "  </style>\n",
              "\n",
              "      <script>\n",
              "        const buttonEl =\n",
              "          document.querySelector('#df-dbf0c3c0-49e7-466d-9ae8-4d093395ce5e button.colab-df-convert');\n",
              "        buttonEl.style.display =\n",
              "          google.colab.kernel.accessAllowed ? 'block' : 'none';\n",
              "\n",
              "        async function convertToInteractive(key) {\n",
              "          const element = document.querySelector('#df-dbf0c3c0-49e7-466d-9ae8-4d093395ce5e');\n",
              "          const dataTable =\n",
              "            await google.colab.kernel.invokeFunction('convertToInteractive',\n",
              "                                                     [key], {});\n",
              "          if (!dataTable) return;\n",
              "\n",
              "          const docLinkHtml = 'Like what you see? Visit the ' +\n",
              "            '<a target=\"_blank\" href=https://colab.research.google.com/notebooks/data_table.ipynb>data table notebook</a>'\n",
              "            + ' to learn more about interactive tables.';\n",
              "          element.innerHTML = '';\n",
              "          dataTable['output_type'] = 'display_data';\n",
              "          await google.colab.output.renderOutput(dataTable, element);\n",
              "          const docLink = document.createElement('div');\n",
              "          docLink.innerHTML = docLinkHtml;\n",
              "          element.appendChild(docLink);\n",
              "        }\n",
              "      </script>\n",
              "    </div>\n",
              "  </div>\n",
              "  "
            ]
          },
          "metadata": {},
          "execution_count": 218
        }
      ]
    },
    {
      "cell_type": "code",
      "source": [
        "pd.crosstab(df[\"viaje_noche_fuera\"], df[\"estado_civil\"], normalize=True)"
      ],
      "metadata": {
        "colab": {
          "base_uri": "https://localhost:8080/",
          "height": 143
        },
        "id": "jqFzgRprLkx2",
        "outputId": "935a80d8-f6d9-4e42-dcce-f65d347b32dc"
      },
      "execution_count": 219,
      "outputs": [
        {
          "output_type": "execute_result",
          "data": {
            "text/plain": [
              "estado_civil         casado  pareja_no_union_libre  pareja_union_libre  \\\n",
              "viaje_noche_fuera                                                        \n",
              "no                 0.241866               0.014483            0.249643   \n",
              "si                 0.036815               0.002854            0.026969   \n",
              "\n",
              "estado_civil       separado_divorciado   soltero     viudo  \n",
              "viaje_noche_fuera                                           \n",
              "no                            0.172018  0.117865  0.085188  \n",
              "si                            0.019834  0.024401  0.008062  "
            ],
            "text/html": [
              "\n",
              "  <div id=\"df-be02fcb7-1fae-49b5-89c4-c72763936e42\">\n",
              "    <div class=\"colab-df-container\">\n",
              "      <div>\n",
              "<style scoped>\n",
              "    .dataframe tbody tr th:only-of-type {\n",
              "        vertical-align: middle;\n",
              "    }\n",
              "\n",
              "    .dataframe tbody tr th {\n",
              "        vertical-align: top;\n",
              "    }\n",
              "\n",
              "    .dataframe thead th {\n",
              "        text-align: right;\n",
              "    }\n",
              "</style>\n",
              "<table border=\"1\" class=\"dataframe\">\n",
              "  <thead>\n",
              "    <tr style=\"text-align: right;\">\n",
              "      <th>estado_civil</th>\n",
              "      <th>casado</th>\n",
              "      <th>pareja_no_union_libre</th>\n",
              "      <th>pareja_union_libre</th>\n",
              "      <th>separado_divorciado</th>\n",
              "      <th>soltero</th>\n",
              "      <th>viudo</th>\n",
              "    </tr>\n",
              "    <tr>\n",
              "      <th>viaje_noche_fuera</th>\n",
              "      <th></th>\n",
              "      <th></th>\n",
              "      <th></th>\n",
              "      <th></th>\n",
              "      <th></th>\n",
              "      <th></th>\n",
              "    </tr>\n",
              "  </thead>\n",
              "  <tbody>\n",
              "    <tr>\n",
              "      <th>no</th>\n",
              "      <td>0.241866</td>\n",
              "      <td>0.014483</td>\n",
              "      <td>0.249643</td>\n",
              "      <td>0.172018</td>\n",
              "      <td>0.117865</td>\n",
              "      <td>0.085188</td>\n",
              "    </tr>\n",
              "    <tr>\n",
              "      <th>si</th>\n",
              "      <td>0.036815</td>\n",
              "      <td>0.002854</td>\n",
              "      <td>0.026969</td>\n",
              "      <td>0.019834</td>\n",
              "      <td>0.024401</td>\n",
              "      <td>0.008062</td>\n",
              "    </tr>\n",
              "  </tbody>\n",
              "</table>\n",
              "</div>\n",
              "      <button class=\"colab-df-convert\" onclick=\"convertToInteractive('df-be02fcb7-1fae-49b5-89c4-c72763936e42')\"\n",
              "              title=\"Convert this dataframe to an interactive table.\"\n",
              "              style=\"display:none;\">\n",
              "        \n",
              "  <svg xmlns=\"http://www.w3.org/2000/svg\" height=\"24px\"viewBox=\"0 0 24 24\"\n",
              "       width=\"24px\">\n",
              "    <path d=\"M0 0h24v24H0V0z\" fill=\"none\"/>\n",
              "    <path d=\"M18.56 5.44l.94 2.06.94-2.06 2.06-.94-2.06-.94-.94-2.06-.94 2.06-2.06.94zm-11 1L8.5 8.5l.94-2.06 2.06-.94-2.06-.94L8.5 2.5l-.94 2.06-2.06.94zm10 10l.94 2.06.94-2.06 2.06-.94-2.06-.94-.94-2.06-.94 2.06-2.06.94z\"/><path d=\"M17.41 7.96l-1.37-1.37c-.4-.4-.92-.59-1.43-.59-.52 0-1.04.2-1.43.59L10.3 9.45l-7.72 7.72c-.78.78-.78 2.05 0 2.83L4 21.41c.39.39.9.59 1.41.59.51 0 1.02-.2 1.41-.59l7.78-7.78 2.81-2.81c.8-.78.8-2.07 0-2.86zM5.41 20L4 18.59l7.72-7.72 1.47 1.35L5.41 20z\"/>\n",
              "  </svg>\n",
              "      </button>\n",
              "      \n",
              "  <style>\n",
              "    .colab-df-container {\n",
              "      display:flex;\n",
              "      flex-wrap:wrap;\n",
              "      gap: 12px;\n",
              "    }\n",
              "\n",
              "    .colab-df-convert {\n",
              "      background-color: #E8F0FE;\n",
              "      border: none;\n",
              "      border-radius: 50%;\n",
              "      cursor: pointer;\n",
              "      display: none;\n",
              "      fill: #1967D2;\n",
              "      height: 32px;\n",
              "      padding: 0 0 0 0;\n",
              "      width: 32px;\n",
              "    }\n",
              "\n",
              "    .colab-df-convert:hover {\n",
              "      background-color: #E2EBFA;\n",
              "      box-shadow: 0px 1px 2px rgba(60, 64, 67, 0.3), 0px 1px 3px 1px rgba(60, 64, 67, 0.15);\n",
              "      fill: #174EA6;\n",
              "    }\n",
              "\n",
              "    [theme=dark] .colab-df-convert {\n",
              "      background-color: #3B4455;\n",
              "      fill: #D2E3FC;\n",
              "    }\n",
              "\n",
              "    [theme=dark] .colab-df-convert:hover {\n",
              "      background-color: #434B5C;\n",
              "      box-shadow: 0px 1px 3px 1px rgba(0, 0, 0, 0.15);\n",
              "      filter: drop-shadow(0px 1px 2px rgba(0, 0, 0, 0.3));\n",
              "      fill: #FFFFFF;\n",
              "    }\n",
              "  </style>\n",
              "\n",
              "      <script>\n",
              "        const buttonEl =\n",
              "          document.querySelector('#df-be02fcb7-1fae-49b5-89c4-c72763936e42 button.colab-df-convert');\n",
              "        buttonEl.style.display =\n",
              "          google.colab.kernel.accessAllowed ? 'block' : 'none';\n",
              "\n",
              "        async function convertToInteractive(key) {\n",
              "          const element = document.querySelector('#df-be02fcb7-1fae-49b5-89c4-c72763936e42');\n",
              "          const dataTable =\n",
              "            await google.colab.kernel.invokeFunction('convertToInteractive',\n",
              "                                                     [key], {});\n",
              "          if (!dataTable) return;\n",
              "\n",
              "          const docLinkHtml = 'Like what you see? Visit the ' +\n",
              "            '<a target=\"_blank\" href=https://colab.research.google.com/notebooks/data_table.ipynb>data table notebook</a>'\n",
              "            + ' to learn more about interactive tables.';\n",
              "          element.innerHTML = '';\n",
              "          dataTable['output_type'] = 'display_data';\n",
              "          await google.colab.output.renderOutput(dataTable, element);\n",
              "          const docLink = document.createElement('div');\n",
              "          docLink.innerHTML = docLinkHtml;\n",
              "          element.appendChild(docLink);\n",
              "        }\n",
              "      </script>\n",
              "    </div>\n",
              "  </div>\n",
              "  "
            ]
          },
          "metadata": {},
          "execution_count": 219
        }
      ]
    },
    {
      "cell_type": "code",
      "source": [
        "sns.histplot(x=df[\"edad\"])"
      ],
      "metadata": {
        "colab": {
          "base_uri": "https://localhost:8080/",
          "height": 296
        },
        "id": "LZji0LLqMBef",
        "outputId": "f7c07e7b-507d-46d8-fba0-a91604440c20"
      },
      "execution_count": 220,
      "outputs": [
        {
          "output_type": "execute_result",
          "data": {
            "text/plain": [
              "<matplotlib.axes._subplots.AxesSubplot at 0x7fd865f36cd0>"
            ]
          },
          "metadata": {},
          "execution_count": 220
        },
        {
          "output_type": "display_data",
          "data": {
            "text/plain": [
              "<Figure size 432x288 with 1 Axes>"
            ],
            "image/png": "[encoded data removed]"
          },
          "metadata": {
            "needs_background": "light"
          }
        }
      ]
    },
    {
      "cell_type": "code",
      "source": [
        "df[\"edad\"].describe()"
      ],
      "metadata": {
        "colab": {
          "base_uri": "https://localhost:8080/"
        },
        "id": "ajwovdNCNAbm",
        "outputId": "8ed60f3f-2e27-4b05-8f60-d38a77f28f34"
      },
      "execution_count": 221,
      "outputs": [
        {
          "output_type": "execute_result",
          "data": {
            "text/plain": [
              "count    14016.000000\n",
              "mean        50.040739\n",
              "std         16.337337\n",
              "min         15.000000\n",
              "25%         37.000000\n",
              "50%         50.000000\n",
              "75%         62.000000\n",
              "max        102.000000\n",
              "Name: edad, dtype: float64"
            ]
          },
          "metadata": {},
          "execution_count": 221
        }
      ]
    },
    {
      "cell_type": "code",
      "source": [
        "mode(df[\"edad\"])"
      ],
      "metadata": {
        "colab": {
          "base_uri": "https://localhost:8080/"
        },
        "id": "KTrGW0e2ORMN",
        "outputId": "f4363698-02c7-4d6e-c5ef-e41b03633622"
      },
      "execution_count": 222,
      "outputs": [
        {
          "output_type": "execute_result",
          "data": {
            "text/plain": [
              "ModeResult(mode=array([40]), count=array([333]))"
            ]
          },
          "metadata": {},
          "execution_count": 222
        }
      ]
    },
    {
      "cell_type": "code",
      "source": [
        "sns.histplot(x=df[\"estrato\"])"
      ],
      "metadata": {
        "colab": {
          "base_uri": "https://localhost:8080/",
          "height": 296
        },
        "id": "QTpMiQVoPIXQ",
        "outputId": "01f7c1ab-4dbf-4038-e762-0787468e6f04"
      },
      "execution_count": 223,
      "outputs": [
        {
          "output_type": "execute_result",
          "data": {
            "text/plain": [
              "<matplotlib.axes._subplots.AxesSubplot at 0x7fd855eda990>"
            ]
          },
          "metadata": {},
          "execution_count": 223
        },
        {
          "output_type": "display_data",
          "data": {
            "text/plain": [
              "<Figure size 432x288 with 1 Axes>"
            ],
            "image/png": "[encoded data removed]"
          },
          "metadata": {
            "needs_background": "light"
          }
        }
      ]
    },
    {
      "cell_type": "code",
      "source": [
        "sns.barplot(x=df[\"estrato\"].value_counts().index, y=df[\"estrato\"].value_counts())"
      ],
      "metadata": {
        "colab": {
          "base_uri": "https://localhost:8080/",
          "height": 282
        },
        "id": "UrWT_SV5PAh7",
        "outputId": "d8be32e9-571f-4c44-84aa-cc131148dce5"
      },
      "execution_count": 224,
      "outputs": [
        {
          "output_type": "execute_result",
          "data": {
            "text/plain": [
              "<matplotlib.axes._subplots.AxesSubplot at 0x7fd855da7190>"
            ]
          },
          "metadata": {},
          "execution_count": 224
        },
        {
          "output_type": "display_data",
          "data": {
            "text/plain": [
              "<Figure size 432x288 with 1 Axes>"
            ],
            "image/png": "[encoded data removed]"
          },
          "metadata": {
            "needs_background": "light"
          }
        }
      ]
    },
    {
      "cell_type": "code",
      "source": [
        "sns.barplot(x=df[\"nivel_educativo\"].value_counts().index, y=df[\"nivel_educativo\"].value_counts())"
      ],
      "metadata": {
        "colab": {
          "base_uri": "https://localhost:8080/",
          "height": 283
        },
        "id": "VZ2ZC7RzPuXp",
        "outputId": "0163c930-b2bb-4178-da1a-0e9577280020"
      },
      "execution_count": 225,
      "outputs": [
        {
          "output_type": "execute_result",
          "data": {
            "text/plain": [
              "<matplotlib.axes._subplots.AxesSubplot at 0x7fd855d44650>"
            ]
          },
          "metadata": {},
          "execution_count": 225
        },
        {
          "output_type": "display_data",
          "data": {
            "text/plain": [
              "<Figure size 432x288 with 1 Axes>"
            ],
            "image/png": "[encoded data removed]"
          },
          "metadata": {
            "needs_background": "light"
          }
        }
      ]
    },
    {
      "cell_type": "code",
      "source": [
        "sns.barplot(y=df[\"estado_civil\"].value_counts().index, x=df[\"estado_civil\"].value_counts(),orient='h')\n",
        "#plt.xticks(rotation=90)"
      ],
      "metadata": {
        "colab": {
          "base_uri": "https://localhost:8080/",
          "height": 297
        },
        "id": "8LFCOGXGQwrd",
        "outputId": "72b67a16-6a52-44a7-80e1-b127736506dd"
      },
      "execution_count": 226,
      "outputs": [
        {
          "output_type": "execute_result",
          "data": {
            "text/plain": [
              "<matplotlib.axes._subplots.AxesSubplot at 0x7fd855caf190>"
            ]
          },
          "metadata": {},
          "execution_count": 226
        },
        {
          "output_type": "display_data",
          "data": {
            "text/plain": [
              "<Figure size 432x288 with 1 Axes>"
            ],
            "image/png": "[encoded data removed]"
          },
          "metadata": {
            "needs_background": "light"
          }
        }
      ]
    },
    {
      "cell_type": "code",
      "source": [
        "df[\"viaje_noche_fuera\"]=df[\"viaje_noche_fuera\"].replace({\"si\": 1, \"no\": 0})"
      ],
      "metadata": {
        "id": "1piQBt1sRUAy"
      },
      "execution_count": 227,
      "outputs": []
    },
    {
      "cell_type": "code",
      "source": [
        "df.drop(columns=\"parentesco_jefe_hogar\",inplace=True)"
      ],
      "metadata": {
        "id": "iewSrU9rSVQr"
      },
      "execution_count": 228,
      "outputs": []
    },
    {
      "cell_type": "code",
      "source": [
        "df = df[df[\"nivel_educativo\"]!= \"no_sabe_no_informa\"]"
      ],
      "metadata": {
        "id": "VrnNNs7ySrIj"
      },
      "execution_count": 229,
      "outputs": []
    },
    {
      "cell_type": "code",
      "source": [
        "df = pd.get_dummies(df, drop_first=True)"
      ],
      "metadata": {
        "id": "RKYRC3Y1SKGH"
      },
      "execution_count": 230,
      "outputs": []
    },
    {
      "cell_type": "code",
      "source": [
        "X = df.copy()\n",
        "y = X.pop(\"viaje_noche_fuera\")\n",
        "X = sm.add_constant(X)\n",
        "model = sm.OLS(y,X)\n",
        "reg = model.fit()\n",
        "reg.summary()"
      ],
      "metadata": {
        "colab": {
          "base_uri": "https://localhost:8080/",
          "height": 776
        },
        "id": "jauQKyuhSNg3",
        "outputId": "73e73951-634c-436c-9d3a-f623aa9825fc"
      },
      "execution_count": 232,
      "outputs": [
        {
          "output_type": "stream",
          "name": "stderr",
          "text": [
            "/usr/local/lib/python3.7/dist-packages/statsmodels/tsa/tsatools.py:117: FutureWarning: In a future version of pandas all arguments of concat except for the argument 'objs' will be keyword-only\n",
            "  x = pd.concat(x[::order], 1)\n"
          ]
        },
        {
          "output_type": "execute_result",
          "data": {
            "text/plain": [
              "<class 'statsmodels.iolib.summary.Summary'>\n",
              "\"\"\"\n",
              "                            OLS Regression Results                            \n",
              "==============================================================================\n",
              "Dep. Variable:      viaje_noche_fuera   R-squared:                       0.043\n",
              "Model:                            OLS   Adj. R-squared:                  0.042\n",
              "Method:                 Least Squares   F-statistic:                     52.20\n",
              "Date:                Thu, 21 Apr 2022   Prob (F-statistic):          1.78e-123\n",
              "Time:                        22:46:47   Log-Likelihood:                -3773.1\n",
              "No. Observations:               14012   AIC:                             7572.\n",
              "Df Residuals:                   13999   BIC:                             7670.\n",
              "Df Model:                          12                                         \n",
              "Covariance Type:            nonrobust                                         \n",
              "==========================================================================================================\n",
              "                                             coef    std err          t      P>|t|      [0.025      0.975]\n",
              "----------------------------------------------------------------------------------------------------------\n",
              "const                                      0.0844      0.015      5.694      0.000       0.055       0.113\n",
              "edad                                      -0.0015      0.000     -6.850      0.000      -0.002      -0.001\n",
              "estrato                                    0.0395      0.003     14.316      0.000       0.034       0.045\n",
              "estado_civil_pareja_no_union_libre         0.0145      0.021      0.679      0.497      -0.027       0.056\n",
              "estado_civil_pareja_union_libre           -0.0169      0.008     -2.224      0.026      -0.032      -0.002\n",
              "estado_civil_separado_divorciado          -0.0102      0.008     -1.269      0.205      -0.026       0.006\n",
              "estado_civil_soltero                       0.0170      0.009      1.881      0.060      -0.001       0.035\n",
              "estado_civil_viudo                        -0.0035      0.011     -0.330      0.741      -0.024       0.017\n",
              "nivel_educativo_basica_secundaria         -0.0025      0.010     -0.260      0.795      -0.021       0.016\n",
              "nivel_educativo_media                      0.0074      0.008      0.902      0.367      -0.009       0.023\n",
              "nivel_educativo_ninguno                    0.0091      0.016      0.587      0.557      -0.021       0.040\n",
              "nivel_educativo_preescolar                -0.0239      0.130     -0.184      0.854      -0.278       0.230\n",
              "nivel_educativo_superior_universitaria     0.0608      0.009      7.096      0.000       0.044       0.078\n",
              "==============================================================================\n",
              "Omnibus:                     5709.982   Durbin-Watson:                   1.949\n",
              "Prob(Omnibus):                  0.000   Jarque-Bera (JB):            17790.521\n",
              "Skew:                           2.211   Prob(JB):                         0.00\n",
              "Kurtosis:                       6.303   Cond. No.                     2.55e+03\n",
              "==============================================================================\n",
              "\n",
              "Warnings:\n",
              "[1] Standard Errors assume that the covariance matrix of the errors is correctly specified.\n",
              "[2] The condition number is large, 2.55e+03. This might indicate that there are\n",
              "strong multicollinearity or other numerical problems.\n",
              "\"\"\""
            ],
            "text/html": [
              "<table class=\"simpletable\">\n",
              "<caption>OLS Regression Results</caption>\n",
              "<tr>\n",
              "  <th>Dep. Variable:</th>    <td>viaje_noche_fuera</td> <th>  R-squared:         </th> <td>   0.043</td> \n",
              "</tr>\n",
              "<tr>\n",
              "  <th>Model:</th>                   <td>OLS</td>        <th>  Adj. R-squared:    </th> <td>   0.042</td> \n",
              "</tr>\n",
              "<tr>\n",
              "  <th>Method:</th>             <td>Least Squares</td>   <th>  F-statistic:       </th> <td>   52.20</td> \n",
              "</tr>\n",
              "<tr>\n",
              "  <th>Date:</th>             <td>Thu, 21 Apr 2022</td>  <th>  Prob (F-statistic):</th> <td>1.78e-123</td>\n",
              "</tr>\n",
              "<tr>\n",
              "  <th>Time:</th>                 <td>22:46:47</td>      <th>  Log-Likelihood:    </th> <td> -3773.1</td> \n",
              "</tr>\n",
              "<tr>\n",
              "  <th>No. Observations:</th>      <td> 14012</td>       <th>  AIC:               </th> <td>   7572.</td> \n",
              "</tr>\n",
              "<tr>\n",
              "  <th>Df Residuals:</th>          <td> 13999</td>       <th>  BIC:               </th> <td>   7670.</td> \n",
              "</tr>\n",
              "<tr>\n",
              "  <th>Df Model:</th>              <td>    12</td>       <th>                     </th>     <td> </td>    \n",
              "</tr>\n",
              "<tr>\n",
              "  <th>Covariance Type:</th>      <td>nonrobust</td>     <th>                     </th>     <td> </td>    \n",
              "</tr>\n",
              "</table>\n",
              "<table class=\"simpletable\">\n",
              "<tr>\n",
              "                     <td></td>                       <th>coef</th>     <th>std err</th>      <th>t</th>      <th>P>|t|</th>  <th>[0.025</th>    <th>0.975]</th>  \n",
              "</tr>\n",
              "<tr>\n",
              "  <th>const</th>                                  <td>    0.0844</td> <td>    0.015</td> <td>    5.694</td> <td> 0.000</td> <td>    0.055</td> <td>    0.113</td>\n",
              "</tr>\n",
              "<tr>\n",
              "  <th>edad</th>                                   <td>   -0.0015</td> <td>    0.000</td> <td>   -6.850</td> <td> 0.000</td> <td>   -0.002</td> <td>   -0.001</td>\n",
              "</tr>\n",
              "<tr>\n",
              "  <th>estrato</th>                                <td>    0.0395</td> <td>    0.003</td> <td>   14.316</td> <td> 0.000</td> <td>    0.034</td> <td>    0.045</td>\n",
              "</tr>\n",
              "<tr>\n",
              "  <th>estado_civil_pareja_no_union_libre</th>     <td>    0.0145</td> <td>    0.021</td> <td>    0.679</td> <td> 0.497</td> <td>   -0.027</td> <td>    0.056</td>\n",
              "</tr>\n",
              "<tr>\n",
              "  <th>estado_civil_pareja_union_libre</th>        <td>   -0.0169</td> <td>    0.008</td> <td>   -2.224</td> <td> 0.026</td> <td>   -0.032</td> <td>   -0.002</td>\n",
              "</tr>\n",
              "<tr>\n",
              "  <th>estado_civil_separado_divorciado</th>       <td>   -0.0102</td> <td>    0.008</td> <td>   -1.269</td> <td> 0.205</td> <td>   -0.026</td> <td>    0.006</td>\n",
              "</tr>\n",
              "<tr>\n",
              "  <th>estado_civil_soltero</th>                   <td>    0.0170</td> <td>    0.009</td> <td>    1.881</td> <td> 0.060</td> <td>   -0.001</td> <td>    0.035</td>\n",
              "</tr>\n",
              "<tr>\n",
              "  <th>estado_civil_viudo</th>                     <td>   -0.0035</td> <td>    0.011</td> <td>   -0.330</td> <td> 0.741</td> <td>   -0.024</td> <td>    0.017</td>\n",
              "</tr>\n",
              "<tr>\n",
              "  <th>nivel_educativo_basica_secundaria</th>      <td>   -0.0025</td> <td>    0.010</td> <td>   -0.260</td> <td> 0.795</td> <td>   -0.021</td> <td>    0.016</td>\n",
              "</tr>\n",
              "<tr>\n",
              "  <th>nivel_educativo_media</th>                  <td>    0.0074</td> <td>    0.008</td> <td>    0.902</td> <td> 0.367</td> <td>   -0.009</td> <td>    0.023</td>\n",
              "</tr>\n",
              "<tr>\n",
              "  <th>nivel_educativo_ninguno</th>                <td>    0.0091</td> <td>    0.016</td> <td>    0.587</td> <td> 0.557</td> <td>   -0.021</td> <td>    0.040</td>\n",
              "</tr>\n",
              "<tr>\n",
              "  <th>nivel_educativo_preescolar</th>             <td>   -0.0239</td> <td>    0.130</td> <td>   -0.184</td> <td> 0.854</td> <td>   -0.278</td> <td>    0.230</td>\n",
              "</tr>\n",
              "<tr>\n",
              "  <th>nivel_educativo_superior_universitaria</th> <td>    0.0608</td> <td>    0.009</td> <td>    7.096</td> <td> 0.000</td> <td>    0.044</td> <td>    0.078</td>\n",
              "</tr>\n",
              "</table>\n",
              "<table class=\"simpletable\">\n",
              "<tr>\n",
              "  <th>Omnibus:</th>       <td>5709.982</td> <th>  Durbin-Watson:     </th> <td>   1.949</td> \n",
              "</tr>\n",
              "<tr>\n",
              "  <th>Prob(Omnibus):</th>  <td> 0.000</td>  <th>  Jarque-Bera (JB):  </th> <td>17790.521</td>\n",
              "</tr>\n",
              "<tr>\n",
              "  <th>Skew:</th>           <td> 2.211</td>  <th>  Prob(JB):          </th> <td>    0.00</td> \n",
              "</tr>\n",
              "<tr>\n",
              "  <th>Kurtosis:</th>       <td> 6.303</td>  <th>  Cond. No.          </th> <td>2.55e+03</td> \n",
              "</tr>\n",
              "</table><br/><br/>Warnings:<br/>[1] Standard Errors assume that the covariance matrix of the errors is correctly specified.<br/>[2] The condition number is large, 2.55e+03. This might indicate that there are<br/>strong multicollinearity or other numerical problems."
            ]
          },
          "metadata": {},
          "execution_count": 232
        }
      ]
    },
    {
      "cell_type": "code",
      "source": [
        "X = df[[\"edad\", \"estrato\", \"estado_civil_pareja_union_libre\", \"nivel_educativo_superior_universitaria\", \"viaje_noche_fuera\"]].copy()\n",
        "y = X.pop(\"viaje_noche_fuera\")\n",
        "X = sm.add_constant(X)\n",
        "model = sm.OLS(y,X)\n",
        "reg = model.fit()\n",
        "reg.summary()"
      ],
      "metadata": {
        "colab": {
          "base_uri": "https://localhost:8080/",
          "height": 570
        },
        "id": "cIFQAYp8TP_P",
        "outputId": "96d0f392-b0d4-433c-d41e-9aa7d2fd92a3"
      },
      "execution_count": 235,
      "outputs": [
        {
          "output_type": "stream",
          "name": "stderr",
          "text": [
            "/usr/local/lib/python3.7/dist-packages/statsmodels/tsa/tsatools.py:117: FutureWarning: In a future version of pandas all arguments of concat except for the argument 'objs' will be keyword-only\n",
            "  x = pd.concat(x[::order], 1)\n"
          ]
        },
        {
          "output_type": "execute_result",
          "data": {
            "text/plain": [
              "<class 'statsmodels.iolib.summary.Summary'>\n",
              "\"\"\"\n",
              "                            OLS Regression Results                            \n",
              "==============================================================================\n",
              "Dep. Variable:      viaje_noche_fuera   R-squared:                       0.042\n",
              "Model:                            OLS   Adj. R-squared:                  0.042\n",
              "Method:                 Least Squares   F-statistic:                     154.1\n",
              "Date:                Thu, 21 Apr 2022   Prob (F-statistic):          3.20e-129\n",
              "Time:                        22:54:02   Log-Likelihood:                -3778.1\n",
              "No. Observations:               14012   AIC:                             7566.\n",
              "Df Residuals:                   14007   BIC:                             7604.\n",
              "Df Model:                           4                                         \n",
              "Covariance Type:            nonrobust                                         \n",
              "==========================================================================================================\n",
              "                                             coef    std err          t      P>|t|      [0.025      0.975]\n",
              "----------------------------------------------------------------------------------------------------------\n",
              "const                                      0.0953      0.011      8.647      0.000       0.074       0.117\n",
              "edad                                      -0.0016      0.000     -9.157      0.000      -0.002      -0.001\n",
              "estrato                                    0.0406      0.003     15.208      0.000       0.035       0.046\n",
              "estado_civil_pareja_union_libre           -0.0184      0.006     -2.922      0.003      -0.031      -0.006\n",
              "nivel_educativo_superior_universitaria     0.0577      0.006      9.052      0.000       0.045       0.070\n",
              "==============================================================================\n",
              "Omnibus:                     5715.259   Durbin-Watson:                   1.949\n",
              "Prob(Omnibus):                  0.000   Jarque-Bera (JB):            17819.795\n",
              "Skew:                           2.213   Prob(JB):                         0.00\n",
              "Kurtosis:                       6.305   Cond. No.                         229.\n",
              "==============================================================================\n",
              "\n",
              "Warnings:\n",
              "[1] Standard Errors assume that the covariance matrix of the errors is correctly specified.\n",
              "\"\"\""
            ],
            "text/html": [
              "<table class=\"simpletable\">\n",
              "<caption>OLS Regression Results</caption>\n",
              "<tr>\n",
              "  <th>Dep. Variable:</th>    <td>viaje_noche_fuera</td> <th>  R-squared:         </th> <td>   0.042</td> \n",
              "</tr>\n",
              "<tr>\n",
              "  <th>Model:</th>                   <td>OLS</td>        <th>  Adj. R-squared:    </th> <td>   0.042</td> \n",
              "</tr>\n",
              "<tr>\n",
              "  <th>Method:</th>             <td>Least Squares</td>   <th>  F-statistic:       </th> <td>   154.1</td> \n",
              "</tr>\n",
              "<tr>\n",
              "  <th>Date:</th>             <td>Thu, 21 Apr 2022</td>  <th>  Prob (F-statistic):</th> <td>3.20e-129</td>\n",
              "</tr>\n",
              "<tr>\n",
              "  <th>Time:</th>                 <td>22:54:02</td>      <th>  Log-Likelihood:    </th> <td> -3778.1</td> \n",
              "</tr>\n",
              "<tr>\n",
              "  <th>No. Observations:</th>      <td> 14012</td>       <th>  AIC:               </th> <td>   7566.</td> \n",
              "</tr>\n",
              "<tr>\n",
              "  <th>Df Residuals:</th>          <td> 14007</td>       <th>  BIC:               </th> <td>   7604.</td> \n",
              "</tr>\n",
              "<tr>\n",
              "  <th>Df Model:</th>              <td>     4</td>       <th>                     </th>     <td> </td>    \n",
              "</tr>\n",
              "<tr>\n",
              "  <th>Covariance Type:</th>      <td>nonrobust</td>     <th>                     </th>     <td> </td>    \n",
              "</tr>\n",
              "</table>\n",
              "<table class=\"simpletable\">\n",
              "<tr>\n",
              "                     <td></td>                       <th>coef</th>     <th>std err</th>      <th>t</th>      <th>P>|t|</th>  <th>[0.025</th>    <th>0.975]</th>  \n",
              "</tr>\n",
              "<tr>\n",
              "  <th>const</th>                                  <td>    0.0953</td> <td>    0.011</td> <td>    8.647</td> <td> 0.000</td> <td>    0.074</td> <td>    0.117</td>\n",
              "</tr>\n",
              "<tr>\n",
              "  <th>edad</th>                                   <td>   -0.0016</td> <td>    0.000</td> <td>   -9.157</td> <td> 0.000</td> <td>   -0.002</td> <td>   -0.001</td>\n",
              "</tr>\n",
              "<tr>\n",
              "  <th>estrato</th>                                <td>    0.0406</td> <td>    0.003</td> <td>   15.208</td> <td> 0.000</td> <td>    0.035</td> <td>    0.046</td>\n",
              "</tr>\n",
              "<tr>\n",
              "  <th>estado_civil_pareja_union_libre</th>        <td>   -0.0184</td> <td>    0.006</td> <td>   -2.922</td> <td> 0.003</td> <td>   -0.031</td> <td>   -0.006</td>\n",
              "</tr>\n",
              "<tr>\n",
              "  <th>nivel_educativo_superior_universitaria</th> <td>    0.0577</td> <td>    0.006</td> <td>    9.052</td> <td> 0.000</td> <td>    0.045</td> <td>    0.070</td>\n",
              "</tr>\n",
              "</table>\n",
              "<table class=\"simpletable\">\n",
              "<tr>\n",
              "  <th>Omnibus:</th>       <td>5715.259</td> <th>  Durbin-Watson:     </th> <td>   1.949</td> \n",
              "</tr>\n",
              "<tr>\n",
              "  <th>Prob(Omnibus):</th>  <td> 0.000</td>  <th>  Jarque-Bera (JB):  </th> <td>17819.795</td>\n",
              "</tr>\n",
              "<tr>\n",
              "  <th>Skew:</th>           <td> 2.213</td>  <th>  Prob(JB):          </th> <td>    0.00</td> \n",
              "</tr>\n",
              "<tr>\n",
              "  <th>Kurtosis:</th>       <td> 6.305</td>  <th>  Cond. No.          </th> <td>    229.</td> \n",
              "</tr>\n",
              "</table><br/><br/>Warnings:<br/>[1] Standard Errors assume that the covariance matrix of the errors is correctly specified."
            ]
          },
          "metadata": {},
          "execution_count": 235
        }
      ]
    },
    {
      "cell_type": "code",
      "source": [
        ""
      ],
      "metadata": {
        "id": "TiThIpEPU-Ia"
      },
      "execution_count": null,
      "outputs": []
    }
  ]
}