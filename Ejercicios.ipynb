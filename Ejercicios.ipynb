{
  "nbformat": 4,
  "nbformat_minor": 0,
  "metadata": {
    "colab": {
      "name": "Ejercicios",
      "provenance": [],
      "collapsed_sections": []
    },
    "kernelspec": {
      "name": "python3",
      "display_name": "Python 3"
    },
    "language_info": {
      "name": "python"
    }
  },
  "cells": [
    {
      "cell_type": "markdown",
      "source": [
        "# 1 ejercicio\n"
      ],
      "metadata": {
        "id": "kROX038hq1_J"
      }
    },
    {
      "cell_type": "code",
      "execution_count": null,
      "metadata": {
        "id": "ugsvQj2TqHE3"
      },
      "outputs": [],
      "source": [
        "def solicitud():\n",
        "  primer_nombre = input(\"Ingrese su primer nombre: \")\n",
        "  no1 = str(\"no\")\n",
        "  segundo_nombre = str(input(\"Ingrese su segundo nombre, si no tiene ponga no: \"))\n",
        "  primer_apellido = input(\"Ingrese su su primer appellido: \")\n",
        "  segundo_apellido = input(\"Ingrese su asu segundo appellido: \")\n",
        "  edad = input(\"ingrese su edad: \")\n",
        "  dirección = input(\"ingrese su dirección de residencia: \")\n",
        "  return f\"Usted se llama {primer_nombre} {segundo_nombre}\""
      ]
    },
    {
      "cell_type": "code",
      "source": [
        "solicitud()"
      ],
      "metadata": {
        "colab": {
          "base_uri": "https://localhost:8080/",
          "height": 146
        },
        "id": "m4NoGbtareDu",
        "outputId": "aaec8bbf-1c27-4b1d-e76d-296f2bc229ba"
      },
      "execution_count": null,
      "outputs": [
        {
          "name": "stdout",
          "output_type": "stream",
          "text": [
            "Ingrese su primer nombre: adasd\n",
            "Ingrese su segundo nombre, si no tiene ponga no: asdasd\n",
            "Ingrese su su primer appellido: asd\n",
            "Ingrese su asu segundo appellido: dasdas\n",
            "ingrese su edad: das\n",
            "ingrese su dirección de residencia: dsadasd\n"
          ]
        },
        {
          "output_type": "execute_result",
          "data": {
            "text/plain": [
              "'Usted se llama adasd asdasd'"
            ],
            "application/vnd.google.colaboratory.intrinsic+json": {
              "type": "string"
            }
          },
          "metadata": {},
          "execution_count": 7
        }
      ]
    },
    {
      "cell_type": "code",
      "source": [
        "def solicitud():\n",
        "  primer_nombre = input(\"Ingrese su primer nombre: \")\n",
        "  segundo_nombre = str(input(\"Ingrese su segundo nombre, si no tiene ponga no: \"))\n",
        "  primer_apellido = str(input(\"Ingrese su su primer appellido, si no tiene ponga no: \"))\n",
        "  segundo_apellido = str(input(\"Ingrese su su segundo appellido, si no tiene ponga no: \"))\n",
        "  edad = input(\"ingrese su edad: \")\n",
        "  d1 = str(input(\"ingrese su dirección de residencia, calle ponga no: \"))\n",
        "  d2 = str(input(\"ingrese su dirección de residencia, carrera ponga no: \"))\n",
        "  d3 = str(input(\"ingrese su dirección de residencia, si vive en apartamento, de lo contrario ponga no: \"))\n",
        "  no1 = str(\"no\")\n",
        "  if segundo_nombre == no1:\n",
        "    print(\"Su información es\" , primer_nombre , primer_apellido ,  segundo_apellido, edad)\n",
        "  elif primer_apellido == no1:\n",
        "    print(\"Su información es\" , primer_nombre ,  segundo_apellido, edad)\n",
        "  elif segundo_apellido == no1:\n",
        "    print(\"Su información es\" , primer_nombre  ,   edad)\n",
        "  elif d1 == no1:\n",
        "    print(\"Su información es\" , primer_nombre  , edad, d2, d3 )\n",
        "  elif d2 == no1:\n",
        "    print(\"Su información es\" , primer_nombre  , edad, d1, d3 )\n",
        "  elif d3 == no1:\n",
        "    print(\"Su información es\" , primer_nombre   , edad, d2, d3 )\n",
        "  else: \n",
        "    print(\"su informacion es: \" , primer_nombre ,segundo_nombre, primer_apellido ,  segundo_apellido, edad, d1, d2, d3)\n",
        "  return"
      ],
      "metadata": {
        "id": "CBmeYLKNrf9V"
      },
      "execution_count": 229,
      "outputs": []
    },
    {
      "cell_type": "code",
      "source": [
        "solicitud()"
      ],
      "metadata": {
        "colab": {
          "base_uri": "https://localhost:8080/"
        },
        "id": "H4FERtWGvTyT",
        "outputId": "04b2db63-5a57-4772-ee4b-ced180eadc54"
      },
      "execution_count": 231,
      "outputs": [
        {
          "output_type": "stream",
          "name": "stdout",
          "text": [
            "Ingrese su primer nombre: andres\n",
            "Ingrese su segundo nombre, si no tiene ponga no: no\n",
            "Ingrese su su primer appellido, si no tiene ponga no: no\n",
            "Ingrese su su segundo appellido, si no tiene ponga no: no\n",
            "ingrese su edad: 21\n",
            "ingrese su dirección de residencia, calle ponga no: no\n",
            "ingrese su dirección de residencia, carrera ponga no: no\n",
            "ingrese su dirección de residencia, si vive en apartamento, de lo contrario ponga no: no\n",
            "Su información es andres no no 21\n"
          ]
        }
      ]
    },
    {
      "cell_type": "code",
      "source": [
        "def solicitud():\n",
        "  primer_nombre = input(\"Ingrese su primer nombre: \")\n",
        "  segundo_nombre = str(input(\"Ingrese su segundo nombre, si no tiene ponga no: \"))\n",
        "  primer_apellido = str(input(\"Ingrese su su primer appellido ponga no: \"))\n",
        "  segundo_apellido = str(input(\"Ingrese su asu segundo appellido ponga no: \"))\n",
        "  edad = input(\"ingrese su edad: \")\n",
        "  d1 = str(input(\"ingrese su dirección de residencia, calle ponga no: \"))\n",
        "  d2 = str(input(\"ingrese su dirección de residencia, carrera ponga no: \"))\n",
        "  d3 = str(input(\"ingrese su dirección de residencia, si vive en apartamento, de lo contrario ponga no: \"))\n",
        "  no1 = str(\"no\")\n",
        "  if segundo_nombre == no1 and primer_apellido == no1 and segundo_apellido == no1 and d1 == no1 and d2 == no1 and d3 == no1:\n",
        "    print(\"Su información es: \" , primer_nombre , primer_apellido ,  segundo_apellido, edad, d1, d2, d3 )\n",
        "  else:\n",
        "    print(\"Su información es: \" , primer_nombre , segundo_nombre , primer_apellido ,  segundo_apellido, edad, d1, d2, d3 )"
      ],
      "metadata": {
        "id": "Z25QtRb4w4d7"
      },
      "execution_count": 220,
      "outputs": []
    },
    {
      "cell_type": "code",
      "source": [
        "solicitud()"
      ],
      "metadata": {
        "colab": {
          "base_uri": "https://localhost:8080/"
        },
        "id": "4QZ_gkDJxP5D",
        "outputId": "56b54e3a-4b78-42f3-b8c7-8f97270b2a8f"
      },
      "execution_count": 195,
      "outputs": [
        {
          "output_type": "stream",
          "name": "stdout",
          "text": [
            "Ingrese su primer nombre: andres\n",
            "Ingrese su segundo nombre, si no tiene ponga no: no\n",
            "Ingrese su su primer appellido ponga no: no\n",
            "Ingrese su asu segundo appellido ponga no: no\n",
            "ingrese su edad: o\n",
            "ingrese su dirección de residencia, calle ponga no: no\n",
            "ingrese su dirección de residencia, carrera ponga no: no\n",
            "ingrese su dirección de residencia, si vive en apartamento, de lo contrario ponga no: no\n",
            "Su información es:  andres no no o no no no\n"
          ]
        }
      ]
    },
    {
      "cell_type": "code",
      "source": [
        "def nombre():\n",
        "  nombre = input(\"ingrese su nombre\")\n",
        "  print(\"Hola\" , nombre)"
      ],
      "metadata": {
        "id": "8t1i8p8uvU0x"
      },
      "execution_count": 196,
      "outputs": []
    },
    {
      "cell_type": "code",
      "source": [
        "nombre()"
      ],
      "metadata": {
        "colab": {
          "base_uri": "https://localhost:8080/"
        },
        "id": "jplh8nSQw8TH",
        "outputId": "53b59fc2-0a23-4e54-ef8f-35a6b46e8e85"
      },
      "execution_count": null,
      "outputs": [
        {
          "output_type": "stream",
          "name": "stdout",
          "text": [
            "ingrese su nombreandasdas\n",
            "Hola andasdas\n"
          ]
        }
      ]
    },
    {
      "cell_type": "code",
      "source": [
        "def base():\n",
        "  lado_1 = int(input(\"Ingrese un lado del cuadrado: \"))\n",
        "  lado_2 = int(input(\"Ingrese el otro lado del cuadrado: \"))\n",
        "  area = lado_1 * lado_2\n",
        "  print(\"El area del cuadrado es: \", area)"
      ],
      "metadata": {
        "id": "r-bq6WIoxD9m"
      },
      "execution_count": null,
      "outputs": []
    },
    {
      "cell_type": "code",
      "source": [
        "base()"
      ],
      "metadata": {
        "colab": {
          "base_uri": "https://localhost:8080/"
        },
        "id": "Q3lQ3lQnx9gi",
        "outputId": "b2a530d9-4ca7-488d-c173-8184cbc422d4"
      },
      "execution_count": null,
      "outputs": [
        {
          "output_type": "stream",
          "name": "stdout",
          "text": [
            "Ingrese un lado del cuadrado: 4\n",
            "Ingrese el otro lado del cuadrado: 4\n",
            "El area del cuadrado es:  16\n"
          ]
        }
      ]
    },
    {
      "cell_type": "code",
      "source": [
        "def rectangulo():\n",
        "  lado_1 = int(input(\"Ingrese un lado del cuadrado: \"))\n",
        "  lado_2 = int(input(\"Ingrese el otro lado del cuadrado: \"))\n",
        "  area = lado_1 * lado_2\n",
        "  print(\"El area del rectangulo es : \", area)"
      ],
      "metadata": {
        "id": "V_94PQntyvru"
      },
      "execution_count": null,
      "outputs": []
    },
    {
      "cell_type": "code",
      "source": [
        "rectangulo()"
      ],
      "metadata": {
        "colab": {
          "base_uri": "https://localhost:8080/"
        },
        "id": "kRxRsLFly1bF",
        "outputId": "b59b683c-6137-4d59-b389-40da37a5eeb6"
      },
      "execution_count": null,
      "outputs": [
        {
          "output_type": "stream",
          "name": "stdout",
          "text": [
            "Ingrese un lado del cuadrado: 1010\n",
            "Ingrese el otro lado del cuadrado: 10\n",
            "El area del rectangulo es :  10100\n"
          ]
        }
      ]
    },
    {
      "cell_type": "code",
      "source": [
        "def triangulo():\n",
        "  base = int(input(\"Ingrese la base del renftangulo: \"))\n",
        "  altura = int(input(\"Ingrese el otro lado del cuadrado: \"))\n",
        "  area = ((base*altura)/2)\n",
        "  print(\"El area del triangulo es: \", area)\n"
      ],
      "metadata": {
        "id": "0OXk8geJx-MS"
      },
      "execution_count": null,
      "outputs": []
    },
    {
      "cell_type": "code",
      "source": [
        "triangulo()"
      ],
      "metadata": {
        "colab": {
          "base_uri": "https://localhost:8080/"
        },
        "id": "DltjY6uPyr2t",
        "outputId": "6a192ef7-9aca-4c04-f384-5f2a0290eb4e"
      },
      "execution_count": null,
      "outputs": [
        {
          "output_type": "stream",
          "name": "stdout",
          "text": [
            "Ingrese la base del renftangulo: 10\n",
            "Ingrese el otro lado del cuadrado: 10\n",
            "El area del triangulo es:  50.0\n"
          ]
        }
      ]
    },
    {
      "cell_type": "code",
      "source": [
        "print(\"asdas asdasdsa asdasda asdasd \\n adsadasd \\n asdsad\")"
      ],
      "metadata": {
        "colab": {
          "base_uri": "https://localhost:8080/"
        },
        "id": "uBxIMwtcK6h6",
        "outputId": "de78787a-ae56-4ce5-b5fc-675d0c05923c"
      },
      "execution_count": 5,
      "outputs": [
        {
          "output_type": "stream",
          "name": "stdout",
          "text": [
            "asdas asdasdsa asdasda asdasd \n",
            " adsadasd \n",
            " asdsad\n"
          ]
        }
      ]
    },
    {
      "cell_type": "code",
      "source": [
        "def reciclaje():\n",
        "  b1 = int(1000)\n",
        "  b2 = int(2000)\n",
        "  b3 = int(3000)\n",
        "  l1 = int(1)\n",
        "  l2 = int(2)\n",
        "  l3 = int(3)\n",
        "  print(\"Lista de tamaño de botella y el dinero que recibira: \\n 1) Por unidad de botella de 1 litro recibira: 1000 \\n 2) Por unidad de botella de 1.5 litros recibira: 2000 \\n 3) Por unidad de botella de 2 litro recibira: 3000 \\n  \")\n",
        "  ing = int(input(\"Por favor eliga un número de la lista que corresponda a la botella que va a reciclar: \"))\n",
        "  cad = int(input(\"cuantas botellas va a ingresar: \"))\n",
        "  if l1 == ing:\n",
        "    print(\"Usted ingreso: \" , cad ,\" botella(s) de 1 litro, su pago es: \", (b1*cad))\n",
        "  elif l2 == ing:\n",
        "    print(\"Usted ingreso: \" , cad ,\" botella(s) de 1.5 litros, su pago es: \", (b2*cad))\n",
        "  else:\n",
        "    print(\"Usted ingreso: \" , cad ,\" botella(s) de 2 litros, su pago es: \", (b3*cad))\n",
        "\n",
        "    \n",
        "  "
      ],
      "metadata": {
        "id": "CPwR5MZkys7k"
      },
      "execution_count": 14,
      "outputs": []
    },
    {
      "cell_type": "code",
      "source": [
        "reciclaje()"
      ],
      "metadata": {
        "colab": {
          "base_uri": "https://localhost:8080/"
        },
        "id": "epg6R2kt6KpQ",
        "outputId": "c3378378-8e2e-4dd9-8495-6861ffb4692a"
      },
      "execution_count": 15,
      "outputs": [
        {
          "output_type": "stream",
          "name": "stdout",
          "text": [
            "Lista de tamaño de botella y el dinero que recibira: \n",
            " 1) Por unidad de botella de 1 litro recibira: 1000 \n",
            " 2) Por unidad de botella de 1.5 litros recibira: 2000 \n",
            " 3) Por unidad de botella de 2 litro recibira: 3000 \n",
            "  \n",
            "Por favor eliga un número de la lista que corresponda a la botella que va a reciclar: 2\n",
            "cuantas botellas va a ingresar: 3\n",
            "Usted ingreso:  3  botella(s) de 1.5 litros, su pago es:  6000\n"
          ]
        }
      ]
    },
    {
      "cell_type": "code",
      "source": [
        ""
      ],
      "metadata": {
        "id": "CEr_fTFz6Kn1"
      },
      "execution_count": null,
      "outputs": []
    },
    {
      "cell_type": "code",
      "source": [
        "def comida():\n",
        "  comida = int(input(\"ingrese el costo de su comida: \"))\n",
        "  propina = int(input(\"propina: \"))\n",
        "  iva = (comida*0.08)\n",
        "  valor = iva + propina\n",
        "\n",
        "  print(\"valor de su comida con el impuesto es: \" , iva , \" valor totar a pagar mas su propina es\", valor)"
      ],
      "metadata": {
        "id": "lcqE_3Xu0bcM"
      },
      "execution_count": null,
      "outputs": []
    },
    {
      "cell_type": "code",
      "source": [
        "comida()"
      ],
      "metadata": {
        "colab": {
          "base_uri": "https://localhost:8080/"
        },
        "id": "C57L0oWS14yI",
        "outputId": "253b8288-8d4c-4146-c2f6-3b896828275a"
      },
      "execution_count": null,
      "outputs": [
        {
          "output_type": "stream",
          "name": "stdout",
          "text": [
            "ingrese el costo de su comida: 1000\n",
            "propina: 10\n",
            "valor de su comida con el impuesto es:  80.0  valor totar a pagar mas su propina es 90.0\n"
          ]
        }
      ]
    },
    {
      "cell_type": "code",
      "source": [
        "def peso():\n",
        "  peso_a = float(123)\n",
        "  peso_b = float(35)\n",
        "  a = int(input(\"Cuantos unidades del prducto a desea: \"))\n",
        "  b = int(input(\"Cuantos unidades del producto b desea: \"))\n",
        "  total = (((peso_a * a) + (peso_b * b)))\n",
        "  if total%2 == 0:\n",
        "    print(\"puede vender\", total)\n",
        "  else:\n",
        "    print(\"Su peso total es: \", total , \"pero no puede vender si la suma del peso no es par\")"
      ],
      "metadata": {
        "id": "kRZI1_v4161P"
      },
      "execution_count": null,
      "outputs": []
    },
    {
      "cell_type": "code",
      "source": [
        "peso()"
      ],
      "metadata": {
        "colab": {
          "base_uri": "https://localhost:8080/"
        },
        "id": "l-sdiYjV5lKg",
        "outputId": "6918adb3-cf9c-47aa-a7c0-f7d7eb4b3a89"
      },
      "execution_count": null,
      "outputs": [
        {
          "output_type": "stream",
          "name": "stdout",
          "text": [
            "Cuantos unidades del prducto a desea: 123\n",
            "Cuantos unidades del producto b desea: 432\n",
            "Su peso total es:  30249.0 pero no puede vender si la suma del peso no es par\n"
          ]
        }
      ]
    },
    {
      "cell_type": "code",
      "source": [
        "carro = float(70)\n",
        "motos = float(42)\n",
        "bicileta = float(10)\n",
        "c1 = int(1)\n",
        "m2 = int(2)\n",
        "b3 = int(3)\n",
        "parking = int(input(\"indique en que llego, si es carro marque 1, si es moto marque 2, si es bicilitea marque 3: \"))\n",
        "tiempo = int(input(\"cuanto tiempo estuvo: \"))\n",
        "if c1 == parking:\n",
        "  print(\"Su valor total es: \", (tiempo*carro))\n",
        "  dinero = int(input(\"ingrese la cantidad de dinero: \"))\n",
        "  print(\"Su cambio es: \", (dinero-(tiempo*carro)))\n",
        "elif m2 == parking:\n",
        "  print(\"su valor total es: \", (tiempo*motos))\n",
        "  dinero = int(input(\"ingrese la cantidad de dinero: \"))\n",
        "  print(\"Su cambio es: \", (dinero-(tiempo*motos)))\n",
        "else:\n",
        "  print(\"su valor total\", (tiempo*bicileta))\n",
        "  dinero = int(input(\"ingrese la cantidad de dinero: \"))\n",
        "  print(\"Su cambio es: \", (dinero-(tiempo*bicileta)))\n"
      ],
      "metadata": {
        "colab": {
          "base_uri": "https://localhost:8080/"
        },
        "id": "HzhxgEU-4Owi",
        "outputId": "8a8dfd58-5a89-4328-83dc-6e181a7781ce"
      },
      "execution_count": null,
      "outputs": [
        {
          "output_type": "stream",
          "name": "stdout",
          "text": [
            "indique en que llego, si es carro marque 1, si es moto marque 2, si es bicilitea marque 3: 3\n",
            "cuanto tiempo estuvo: 10\n",
            "su valor total 100.0\n",
            "ingrese la cantidad de dinero: 1000\n",
            "Su valor total es:  900.0\n"
          ]
        }
      ]
    },
    {
      "cell_type": "code",
      "source": [
        "def circulo():\n",
        "  pi = float(3.1415927)\n",
        "  r = float(input(\"Ingrese el radio del ciruclo para calcular el area y el perimitro: \"))\n",
        "  area = (pi *(r ** 2))\n",
        "  peri = (2 * pi * r)\n",
        "  print(\"el area del circulo es: \", area , \" cm al cuadrado. \\n Su perimitro es: \", peri)\n",
        "\n",
        "\n"
      ],
      "metadata": {
        "id": "jeGOc9iM7Oci"
      },
      "execution_count": 19,
      "outputs": []
    },
    {
      "cell_type": "code",
      "source": [
        "circulo()"
      ],
      "metadata": {
        "colab": {
          "base_uri": "https://localhost:8080/"
        },
        "id": "sVsUaz0zRG-e",
        "outputId": "2b2736a7-f44a-432b-831c-8210068e6a71"
      },
      "execution_count": 20,
      "outputs": [
        {
          "output_type": "stream",
          "name": "stdout",
          "text": [
            "Ingrese el radio del ciruclo para calcular el area y el perimitro: 5\n",
            "el area del circulo es:  78.5398175  cm al cuadrado. \n",
            " Su perimitro es:  31.415927\n"
          ]
        }
      ]
    },
    {
      "cell_type": "code",
      "source": [
        "def cumplido():\n",
        "  ano = int(input(\"En que año nacio: \"))\n",
        "  mes = int(input(\"En que mes nacio: \"))\n",
        "  dia = int(input(\"En que día nacion: \"))\n",
        "  ano1 = int(input(\"Ingrese el año actual: \"))\n",
        "  mes1 = int(input(\"Ingrese el mes actual: \"))\n",
        "  dia1 = int(input(\"Ingrese el día actual: \"))\n",
        "  print(\"Su edad actual es: \",  (ano1 - ano), \"años, meses: \", (mes1 - mes), \" y día: \",(dia1 - dia))"
      ],
      "metadata": {
        "id": "D7G1UkG4RHql"
      },
      "execution_count": 23,
      "outputs": []
    },
    {
      "cell_type": "code",
      "source": [
        "cumplido()"
      ],
      "metadata": {
        "colab": {
          "base_uri": "https://localhost:8080/"
        },
        "id": "V-qspsCtT9FF",
        "outputId": "feda389e-5033-487b-c3c6-dd71345fe391"
      },
      "execution_count": 24,
      "outputs": [
        {
          "output_type": "stream",
          "name": "stdout",
          "text": [
            "En que año nacio: 2000\n",
            "En que mes nacio: 06\n",
            "En que día nacion: 26\n",
            "Ingrese el año actual: 2022\n",
            "Ingrese el mes actual: 03\n",
            "Ingrese el día actual: 24\n",
            "Su edad actual es:  22 años, meses:  -3  y día:  -2\n"
          ]
        }
      ]
    },
    {
      "cell_type": "code",
      "source": [
        "def grados():\n",
        "  gc = int(input(\"Ingrese la temperatura atual en grados celcius para hacer la conversion a fahrenheit y en grados kelvin\"))\n",
        "  f = (( gc * 1.8) + 32)\n",
        "  k = (gc + 273.15)\n",
        "  print(\"Usted ingreso \" , gc , \"en grados celcius, la conersión es la siguiente: \\n A Fahrenheit: \", f , \"\\n A Kelvin: \" , k) "
      ],
      "metadata": {
        "id": "CiagF36eT-U0"
      },
      "execution_count": 25,
      "outputs": []
    },
    {
      "cell_type": "code",
      "source": [
        "grados()"
      ],
      "metadata": {
        "colab": {
          "base_uri": "https://localhost:8080/"
        },
        "id": "4ZddGEyhVxOa",
        "outputId": "e49b6c2d-51d1-42ad-f53b-fc11c3f0f1e6"
      },
      "execution_count": 26,
      "outputs": [
        {
          "output_type": "stream",
          "name": "stdout",
          "text": [
            "Ingrese la temperatura atual en grados celcius para hacer la conversion a fahrenheit y en grados kelvin30\n",
            "Usted ingreso  30 en grados celcius, la conersión es la siguiente: \n",
            " A fahrenheit:  86.0 \n",
            " a Kelvin:  303.15\n"
          ]
        }
      ]
    },
    {
      "cell_type": "code",
      "source": [
        "def nume():\n",
        "  mi_lista5 = [1 , 265, 23, 4, 15, 45, 7, 8, 9, 10]\n",
        "  for i in mi_lista5:\n",
        "    maximo = max(mi_lista5)\n",
        "    minimo = min(mi_lista5)\n",
        "    print((\"El valor maximo de la lista es: \", maximo , \"el valor minimo es: \", minimo ,\"\"))\n"
      ],
      "metadata": {
        "id": "mGUNPWORV1nS"
      },
      "execution_count": 45,
      "outputs": []
    },
    {
      "cell_type": "code",
      "source": [
        "nume()"
      ],
      "metadata": {
        "colab": {
          "base_uri": "https://localhost:8080/"
        },
        "id": "CKQ4dMFDYMFx",
        "outputId": "a4acbd92-bff4-41bf-f91a-d456d7fd1cab"
      },
      "execution_count": 46,
      "outputs": [
        {
          "output_type": "stream",
          "name": "stdout",
          "text": [
            "('El valor maximo de la lista es: ', 265, 'el valor minimo es: ', 1, '')\n",
            "('El valor maximo de la lista es: ', 265, 'el valor minimo es: ', 1, '')\n",
            "('El valor maximo de la lista es: ', 265, 'el valor minimo es: ', 1, '')\n",
            "('El valor maximo de la lista es: ', 265, 'el valor minimo es: ', 1, '')\n",
            "('El valor maximo de la lista es: ', 265, 'el valor minimo es: ', 1, '')\n",
            "('El valor maximo de la lista es: ', 265, 'el valor minimo es: ', 1, '')\n",
            "('El valor maximo de la lista es: ', 265, 'el valor minimo es: ', 1, '')\n",
            "('El valor maximo de la lista es: ', 265, 'el valor minimo es: ', 1, '')\n",
            "('El valor maximo de la lista es: ', 265, 'el valor minimo es: ', 1, '')\n",
            "('El valor maximo de la lista es: ', 265, 'el valor minimo es: ', 1, '')\n"
          ]
        }
      ]
    },
    {
      "cell_type": "code",
      "source": [
        ""
      ],
      "metadata": {
        "id": "93HG89eKYM34"
      },
      "execution_count": null,
      "outputs": []
    },
    {
      "cell_type": "code",
      "source": [
        "for i in range (1,11,1):\n",
        "  print(i)"
      ],
      "metadata": {
        "colab": {
          "base_uri": "https://localhost:8080/"
        },
        "id": "0-XG01z-Y3lJ",
        "outputId": "781d1aba-f666-47d2-af36-0ac9840514f0"
      },
      "execution_count": 36,
      "outputs": [
        {
          "output_type": "stream",
          "name": "stdout",
          "text": [
            "1\n",
            "2\n",
            "3\n",
            "4\n",
            "5\n",
            "6\n",
            "7\n",
            "8\n",
            "9\n",
            "10\n"
          ]
        }
      ]
    },
    {
      "cell_type": "code",
      "source": [
        "def lista1():\n",
        "  for i in range (1,11,1):\n",
        "    print(i)\n"
      ],
      "metadata": {
        "id": "XdEePHEEY8wp"
      },
      "execution_count": 43,
      "outputs": []
    },
    {
      "cell_type": "code",
      "source": [
        "lista1()"
      ],
      "metadata": {
        "colab": {
          "base_uri": "https://localhost:8080/"
        },
        "id": "As02Dg9FZiWy",
        "outputId": "acbc7888-0682-447e-f673-07f60d9edcc8"
      },
      "execution_count": 44,
      "outputs": [
        {
          "output_type": "stream",
          "name": "stdout",
          "text": [
            "1\n",
            "2\n",
            "3\n",
            "4\n",
            "5\n",
            "6\n",
            "7\n",
            "8\n",
            "9\n",
            "10\n"
          ]
        }
      ]
    },
    {
      "cell_type": "code",
      "source": [
        "def nume():\n",
        "  mi_lista5 = [1 , 265, 23, 4, 15, 45, 7, 8, 9, 10]\n",
        "  maximo = max(mi_lista5)\n",
        "  minimo = min(mi_lista5)\n",
        "  print((\"El valor maximo de la lista es: \", maximo , \"el valor minimo es: \", minimo ,\"suma de la lista: \" , sum(mi_lista5)))"
      ],
      "metadata": {
        "id": "HcF-MUT5ZkNa"
      },
      "execution_count": 47,
      "outputs": []
    },
    {
      "cell_type": "code",
      "source": [
        "nume()"
      ],
      "metadata": {
        "colab": {
          "base_uri": "https://localhost:8080/"
        },
        "id": "zFvFfReZafKu",
        "outputId": "0c1c39b5-314e-43fb-a6c5-99a4363754de"
      },
      "execution_count": 48,
      "outputs": [
        {
          "output_type": "stream",
          "name": "stdout",
          "text": [
            "('El valor maximo de la lista es: ', 265, 'el valor minimo es: ', 1, 'suma de la lista: ', 387)\n"
          ]
        }
      ]
    },
    {
      "cell_type": "code",
      "source": [
        "def nume1():\n",
        "  lista = input(\"Ingrese dos numeros, porfavor con espacio: \")\n",
        "  print(lista)\n",
        "  lista1 = lista.split()\n",
        "  print(lista1)\n",
        "  lista1 = [int(i) for i in lista1]\n",
        "  print(lista1)\n",
        "  print(f\"El valor maximo de la lista es: \", max(lista1) , \"el valor minimo es: \", min(lista1) ,\"suma de la lista: \" , sum(lista1))"
      ],
      "metadata": {
        "id": "oavewFl2ahHe"
      },
      "execution_count": 53,
      "outputs": []
    },
    {
      "cell_type": "code",
      "source": [
        "nume1()"
      ],
      "metadata": {
        "colab": {
          "base_uri": "https://localhost:8080/"
        },
        "id": "k_9lqKpdcDHI",
        "outputId": "998635ba-3b2d-4531-838d-9e0007debcd7"
      },
      "execution_count": 54,
      "outputs": [
        {
          "output_type": "stream",
          "name": "stdout",
          "text": [
            "Ingrese dos numeros, porfavor con espacio: 123123 534543 23131 9999999\n",
            "123123 534543 23131 9999999\n",
            "['123123', '534543', '23131', '9999999']\n",
            "[123123, 534543, 23131, 9999999]\n",
            "El valor maximo de la lista es:  9999999 el valor minimo es:  23131 suma de la lista:  10680796\n"
          ]
        }
      ]
    },
    {
      "cell_type": "code",
      "source": [
        "u = str(input(\"Ingrese el mes para saber cuantos días tiene\"))\n",
        "if u == \"enero\":\n",
        "  print(31)\n",
        "elif u == \"febrero\":\n",
        "  print(28)\n",
        "elif u == \"marzo\":\n",
        "  print(31)\n",
        "elif u == \"abril\":\n",
        "  print(30)\n",
        "elif u == \"mayo\":\n",
        "  print(31)\n",
        "elif u == \"junio\":\n",
        "  print(30)\n",
        "elif u == \"julio\":\n",
        "  print(31)\n",
        "elif u == \"agosto\":\n",
        "  print(31)\n",
        "elif u == \"septiembre\":\n",
        "  print(30)\n",
        "elif u == \"octubre\":\n",
        "  print(31)\n",
        "elif u == \"novienbre\":\n",
        "  print(30)\n",
        "elif u == \"diciembre\":\n",
        "  print(31)"
      ],
      "metadata": {
        "colab": {
          "base_uri": "https://localhost:8080/"
        },
        "id": "-0M5eZTtcGAY",
        "outputId": "ce1a5741-d056-436f-cdbb-3a01d7831d49"
      },
      "execution_count": 58,
      "outputs": [
        {
          "output_type": "stream",
          "name": "stdout",
          "text": [
            "Ingrese el mes para saber cuantos días tienefebrero\n",
            "28\n"
          ]
        }
      ]
    },
    {
      "cell_type": "code",
      "source": [
        "def edad():\n",
        "  edad1 = int(input(\"ingrese su edad: \"))\n",
        "  if edad1 < 18:\n",
        "    print(\"MENOR DE EDAD\")\n",
        "  elif edad1 >= 18 and edad1 < 45:\n",
        "    print(\"MAYOR DE EDAD\")\n",
        "  elif edad1 >= 45 and edad1 < 60:\n",
        "    print(\"ADULTOO\")\n",
        "  else:\n",
        "    print(\"Adulto Mayoor\")"
      ],
      "metadata": {
        "id": "dp3O_FhTd_31"
      },
      "execution_count": 59,
      "outputs": []
    },
    {
      "cell_type": "code",
      "source": [
        "edad()\n"
      ],
      "metadata": {
        "colab": {
          "base_uri": "https://localhost:8080/"
        },
        "id": "AoS8Pcm_eA2E",
        "outputId": "0b065fc9-2d2f-4ae5-a9d1-e69ddf31309d"
      },
      "execution_count": 62,
      "outputs": [
        {
          "output_type": "stream",
          "name": "stdout",
          "text": [
            "ingrese su edad: 45\n",
            "ADULTOO\n"
          ]
        }
      ]
    },
    {
      "cell_type": "code",
      "source": [
        "def dinero():\n",
        "  print(\"Lista actual de los billetes colombianos: \\n 1) Billete de 2 mil\\n 2) Billete de 5 mil \\n 3) Billete de 10 mil \\n 4) Billete de 20 mil \\n 5) Billete de 50 mil \\n 6) Billete de 100 mil\")\n",
        "  bi = str(input(\"Introduzca un billete y coloque el número correspondiente con el \\n billete que recien ingreso: \"))\n",
        "  if bi == \"1\":\n",
        "    print(\"En el anverso se aprecia la imagen de la artista Débora Arango\")\n",
        "  elif bi == \"2\":\n",
        "    print(\"En el anverso se aprecia la imagen del poeta José Asunción Silva\")\n",
        "  elif bi == \"3\":\n",
        "    print(\"En el anverso se aprecia la imagen de la antropóloga Virginia Gutiérrez\")\n",
        "  elif bi == \"4\":\n",
        "    print(\"Este billete rinde homenaje al presidente de Colombia Alfonso López Michelsen\")\n",
        "  elif bi == \"5\":\n",
        "    print(\"Este billete rinde homenaje al nobel de literatura Gabriel García Márquez\")\n",
        "  elif bi == \"6\":\n",
        "    print(\"En el anverso se aprecia la imagen del presidente Carlos Lleras Restrepo\")\n",
        "\n"
      ],
      "metadata": {
        "id": "IRWcON50gp5y"
      },
      "execution_count": 67,
      "outputs": []
    },
    {
      "cell_type": "code",
      "source": [
        "dinero()"
      ],
      "metadata": {
        "colab": {
          "base_uri": "https://localhost:8080/"
        },
        "id": "r06La_PRhtKO",
        "outputId": "a5c08b6d-6f35-439f-9272-4d2be889bd6a"
      },
      "execution_count": 68,
      "outputs": [
        {
          "output_type": "stream",
          "name": "stdout",
          "text": [
            "Lista actual de los billetes colombianos: \n",
            " 1) Billete de 2 mil\n",
            " 2) Billete de 5 mil \n",
            " 3) Billete de 10 mil \n",
            " 4) Billete de 20 mil \n",
            " 5) Billete de 50 mil \n",
            " 6) Billete de 100 mil\n",
            "Introduzca un billete y coloque el número correspondiente con el \n",
            " billete que recien ingreso: 4\n",
            "Este billete rinde homenaje al presidente de Colombia Alfonso López Michelsen\n"
          ]
        }
      ]
    },
    {
      "cell_type": "code",
      "source": [
        "lista1 = [3, 5, 1, 9, 10, 11, 32, 21, 5, 1, 209, 432, 1, 32, 45]"
      ],
      "metadata": {
        "id": "4oxcR3VjhuGZ"
      },
      "execution_count": 114,
      "outputs": []
    },
    {
      "cell_type": "code",
      "source": [
        "lista1.append(10)"
      ],
      "metadata": {
        "id": "FqOlov-gmPmP"
      },
      "execution_count": 115,
      "outputs": []
    },
    {
      "cell_type": "code",
      "source": [
        "lista1"
      ],
      "metadata": {
        "colab": {
          "base_uri": "https://localhost:8080/"
        },
        "id": "kSKpmabfmaJE",
        "outputId": "dc519657-d20f-4c4c-9feb-5d37d46edecf"
      },
      "execution_count": 116,
      "outputs": [
        {
          "output_type": "execute_result",
          "data": {
            "text/plain": [
              "[3, 5, 1, 9, 10, 11, 32, 21, 5, 1, 209, 432, 1, 32, 45, 10]"
            ]
          },
          "metadata": {},
          "execution_count": 116
        }
      ]
    },
    {
      "cell_type": "code",
      "source": [
        "lista1.append(3)"
      ],
      "metadata": {
        "id": "o3P5F9-EmaxP"
      },
      "execution_count": 117,
      "outputs": []
    },
    {
      "cell_type": "code",
      "source": [
        "lista1"
      ],
      "metadata": {
        "colab": {
          "base_uri": "https://localhost:8080/"
        },
        "id": "JRt3zJQ-mcG3",
        "outputId": "0daec074-e07b-4c80-e7c9-54a7c694ce56"
      },
      "execution_count": 118,
      "outputs": [
        {
          "output_type": "execute_result",
          "data": {
            "text/plain": [
              "[3, 5, 1, 9, 10, 11, 32, 21, 5, 1, 209, 432, 1, 32, 45, 10, 3]"
            ]
          },
          "metadata": {},
          "execution_count": 118
        }
      ]
    },
    {
      "cell_type": "code",
      "source": [
        "lista1.extend([5,6,7])"
      ],
      "metadata": {
        "id": "KsyQAsFWmciE"
      },
      "execution_count": 119,
      "outputs": []
    },
    {
      "cell_type": "code",
      "source": [
        "lista1"
      ],
      "metadata": {
        "colab": {
          "base_uri": "https://localhost:8080/"
        },
        "id": "w7QenDp4mgAf",
        "outputId": "26315477-929f-4f91-8568-0ac0984cd4e9"
      },
      "execution_count": 120,
      "outputs": [
        {
          "output_type": "execute_result",
          "data": {
            "text/plain": [
              "[3, 5, 1, 9, 10, 11, 32, 21, 5, 1, 209, 432, 1, 32, 45, 10, 3, 5, 6, 7]"
            ]
          },
          "metadata": {},
          "execution_count": 120
        }
      ]
    },
    {
      "cell_type": "code",
      "source": [
        "lista1.remove(7)"
      ],
      "metadata": {
        "id": "SvUmnD6Kmgk6"
      },
      "execution_count": 121,
      "outputs": []
    },
    {
      "cell_type": "code",
      "source": [
        "lista1.sort()"
      ],
      "metadata": {
        "id": "XOJ48lyimiP3"
      },
      "execution_count": 122,
      "outputs": []
    },
    {
      "cell_type": "code",
      "source": [
        "lista1"
      ],
      "metadata": {
        "colab": {
          "base_uri": "https://localhost:8080/"
        },
        "id": "N4HIozrummB4",
        "outputId": "7026356e-f6b4-4668-d54e-ec6bab96b6af"
      },
      "execution_count": 123,
      "outputs": [
        {
          "output_type": "execute_result",
          "data": {
            "text/plain": [
              "[1, 1, 1, 3, 3, 5, 5, 5, 6, 9, 10, 10, 11, 21, 32, 32, 45, 209, 432]"
            ]
          },
          "metadata": {},
          "execution_count": 123
        }
      ]
    },
    {
      "cell_type": "code",
      "source": [
        "lista1.remove(432)"
      ],
      "metadata": {
        "id": "sbZhZWA8mmwq"
      },
      "execution_count": 124,
      "outputs": []
    },
    {
      "cell_type": "code",
      "source": [
        "lista1"
      ],
      "metadata": {
        "colab": {
          "base_uri": "https://localhost:8080/"
        },
        "id": "y4PHgDA1mo-4",
        "outputId": "3d793fce-2c16-4c15-bb90-e4cc2c5a9bac"
      },
      "execution_count": 125,
      "outputs": [
        {
          "output_type": "execute_result",
          "data": {
            "text/plain": [
              "[1, 1, 1, 3, 3, 5, 5, 5, 6, 9, 10, 10, 11, 21, 32, 32, 45, 209]"
            ]
          },
          "metadata": {},
          "execution_count": 125
        }
      ]
    },
    {
      "cell_type": "code",
      "source": [
        "lista1.reverse()"
      ],
      "metadata": {
        "id": "sAwpik2-mpZl"
      },
      "execution_count": 127,
      "outputs": []
    },
    {
      "cell_type": "code",
      "source": [
        "lista1"
      ],
      "metadata": {
        "colab": {
          "base_uri": "https://localhost:8080/"
        },
        "id": "NzaKyAEwmrnI",
        "outputId": "ec026718-0c8d-4278-8e0f-c1f6a1fff187"
      },
      "execution_count": 128,
      "outputs": [
        {
          "output_type": "execute_result",
          "data": {
            "text/plain": [
              "[209, 45, 32, 32, 21, 11, 10, 10, 9, 6, 5, 5, 5, 3, 3, 1, 1, 1]"
            ]
          },
          "metadata": {},
          "execution_count": 128
        }
      ]
    },
    {
      "cell_type": "code",
      "source": [
        "lista1.pop(10)"
      ],
      "metadata": {
        "colab": {
          "base_uri": "https://localhost:8080/"
        },
        "id": "7NY2jOF9myv0",
        "outputId": "b2a1e070-50a0-4aeb-8036-aa820a097b7f"
      },
      "execution_count": 129,
      "outputs": [
        {
          "output_type": "execute_result",
          "data": {
            "text/plain": [
              "5"
            ]
          },
          "metadata": {},
          "execution_count": 129
        }
      ]
    },
    {
      "cell_type": "code",
      "source": [
        "lista1"
      ],
      "metadata": {
        "colab": {
          "base_uri": "https://localhost:8080/"
        },
        "id": "2LXAyy4HnGdC",
        "outputId": "ec40c481-3759-47dd-ab99-a6c54f9d57a7"
      },
      "execution_count": 130,
      "outputs": [
        {
          "output_type": "execute_result",
          "data": {
            "text/plain": [
              "[209, 45, 32, 32, 21, 11, 10, 10, 9, 6, 5, 5, 3, 3, 1, 1, 1]"
            ]
          },
          "metadata": {},
          "execution_count": 130
        }
      ]
    },
    {
      "cell_type": "code",
      "source": [
        "lista1.append(10)"
      ],
      "metadata": {
        "id": "Ek2JnXc9nH0p"
      },
      "execution_count": 131,
      "outputs": []
    },
    {
      "cell_type": "code",
      "source": [
        "lista1"
      ],
      "metadata": {
        "colab": {
          "base_uri": "https://localhost:8080/"
        },
        "id": "wgcOSkChnJ-C",
        "outputId": "13879c98-a9bb-4204-9b41-bdc391ec22fd"
      },
      "execution_count": 132,
      "outputs": [
        {
          "output_type": "execute_result",
          "data": {
            "text/plain": [
              "[209, 45, 32, 32, 21, 11, 10, 10, 9, 6, 5, 5, 3, 3, 1, 1, 1, 10]"
            ]
          },
          "metadata": {},
          "execution_count": 132
        }
      ]
    },
    {
      "cell_type": "code",
      "source": [
        "lista1.append(345)"
      ],
      "metadata": {
        "id": "JaOmmOlUnKlU"
      },
      "execution_count": 133,
      "outputs": []
    },
    {
      "cell_type": "code",
      "source": [
        "lista1.append(1)"
      ],
      "metadata": {
        "id": "7gsnygvvnMKL"
      },
      "execution_count": 134,
      "outputs": []
    },
    {
      "cell_type": "code",
      "source": [
        "lista1"
      ],
      "metadata": {
        "colab": {
          "base_uri": "https://localhost:8080/"
        },
        "id": "Obyip6sRnOCj",
        "outputId": "024186d0-64f9-4e03-d09a-22edeee96529"
      },
      "execution_count": 135,
      "outputs": [
        {
          "output_type": "execute_result",
          "data": {
            "text/plain": [
              "[209, 45, 32, 32, 21, 11, 10, 10, 9, 6, 5, 5, 3, 3, 1, 1, 1, 10, 345, 1]"
            ]
          },
          "metadata": {},
          "execution_count": 135
        }
      ]
    },
    {
      "cell_type": "code",
      "source": [
        "lista1.pop(8)"
      ],
      "metadata": {
        "colab": {
          "base_uri": "https://localhost:8080/"
        },
        "id": "hY-zC_qSnO2K",
        "outputId": "612d91be-7096-4578-d205-5ca15ef975a4"
      },
      "execution_count": 136,
      "outputs": [
        {
          "output_type": "execute_result",
          "data": {
            "text/plain": [
              "9"
            ]
          },
          "metadata": {},
          "execution_count": 136
        }
      ]
    },
    {
      "cell_type": "code",
      "source": [
        "lista1"
      ],
      "metadata": {
        "colab": {
          "base_uri": "https://localhost:8080/"
        },
        "id": "kURsKXzwnWKi",
        "outputId": "0b64456e-113c-42bb-bf19-44971f456a94"
      },
      "execution_count": 137,
      "outputs": [
        {
          "output_type": "execute_result",
          "data": {
            "text/plain": [
              "[209, 45, 32, 32, 21, 11, 10, 10, 6, 5, 5, 3, 3, 1, 1, 1, 10, 345, 1]"
            ]
          },
          "metadata": {},
          "execution_count": 137
        }
      ]
    },
    {
      "cell_type": "code",
      "source": [
        "lista1.reverse()"
      ],
      "metadata": {
        "id": "OgjWN9eLnWxS"
      },
      "execution_count": 138,
      "outputs": []
    },
    {
      "cell_type": "code",
      "source": [
        "lista1"
      ],
      "metadata": {
        "colab": {
          "base_uri": "https://localhost:8080/"
        },
        "id": "G-vv8HBenaPK",
        "outputId": "eb23b91c-f1c6-4098-8575-c03d43e6aa07"
      },
      "execution_count": 139,
      "outputs": [
        {
          "output_type": "execute_result",
          "data": {
            "text/plain": [
              "[1, 345, 10, 1, 1, 1, 3, 3, 5, 5, 6, 10, 10, 11, 21, 32, 32, 45, 209]"
            ]
          },
          "metadata": {},
          "execution_count": 139
        }
      ]
    },
    {
      "cell_type": "code",
      "source": [
        "lista1.sort()"
      ],
      "metadata": {
        "id": "frVzlAjmna36"
      },
      "execution_count": 140,
      "outputs": []
    },
    {
      "cell_type": "code",
      "source": [
        "lista1"
      ],
      "metadata": {
        "colab": {
          "base_uri": "https://localhost:8080/"
        },
        "id": "aRXyr5dSndN6",
        "outputId": "dd5a1887-a56f-4878-c4ec-a9833d41bfcd"
      },
      "execution_count": 141,
      "outputs": [
        {
          "output_type": "execute_result",
          "data": {
            "text/plain": [
              "[1, 1, 1, 1, 3, 3, 5, 5, 6, 10, 10, 10, 11, 21, 32, 32, 45, 209, 345]"
            ]
          },
          "metadata": {},
          "execution_count": 141
        }
      ]
    },
    {
      "cell_type": "code",
      "source": [
        "for i in lista1:\n",
        "  if ((i % 2 == 0)**2):\n",
        "    print(i**2)"
      ],
      "metadata": {
        "colab": {
          "base_uri": "https://localhost:8080/"
        },
        "id": "dO3AIpRandqk",
        "outputId": "0150af4b-4a45-491d-cca0-3cef07e17214"
      },
      "execution_count": 164,
      "outputs": [
        {
          "output_type": "stream",
          "name": "stdout",
          "text": [
            "36\n",
            "100\n",
            "100\n",
            "100\n",
            "1024\n",
            "1024\n"
          ]
        }
      ]
    },
    {
      "cell_type": "code",
      "source": [
        "for i in lista1:\n",
        "  if i % 3 == 0:\n",
        "    print(i**3)"
      ],
      "metadata": {
        "colab": {
          "base_uri": "https://localhost:8080/"
        },
        "id": "DZcSb-nhoGWE",
        "outputId": "f7edbcff-8672-40c2-e64c-c37f2aa64a86"
      },
      "execution_count": 173,
      "outputs": [
        {
          "output_type": "stream",
          "name": "stdout",
          "text": [
            "27\n",
            "27\n",
            "216\n",
            "9261\n",
            "91125\n",
            "41063625\n"
          ]
        }
      ]
    },
    {
      "cell_type": "code",
      "source": [
        "lista1"
      ],
      "metadata": {
        "colab": {
          "base_uri": "https://localhost:8080/"
        },
        "id": "2NkjJVOStY40",
        "outputId": "5cc050a1-e060-4cda-b66d-12cba2face14"
      },
      "execution_count": 174,
      "outputs": [
        {
          "output_type": "execute_result",
          "data": {
            "text/plain": [
              "[1, 1, 1, 1, 3, 3, 5, 5, 6, 10, 10, 10, 11, 21, 32, 32, 45, 209, 345]"
            ]
          },
          "metadata": {},
          "execution_count": 174
        }
      ]
    },
    {
      "cell_type": "code",
      "source": [
        "lista1.remove(345)"
      ],
      "metadata": {
        "id": "1O4cHPpstaPY"
      },
      "execution_count": 175,
      "outputs": []
    },
    {
      "cell_type": "code",
      "source": [
        "lista1.remove(209)"
      ],
      "metadata": {
        "id": "AtrwC3FpuEUK"
      },
      "execution_count": 176,
      "outputs": []
    },
    {
      "cell_type": "code",
      "source": [
        "lista1"
      ],
      "metadata": {
        "colab": {
          "base_uri": "https://localhost:8080/"
        },
        "id": "Mir5X_jEuGgy",
        "outputId": "e35be369-0a9d-4a6d-a4f4-4f086bf0a0d0"
      },
      "execution_count": 177,
      "outputs": [
        {
          "output_type": "execute_result",
          "data": {
            "text/plain": [
              "[1, 1, 1, 1, 3, 3, 5, 5, 6, 10, 10, 10, 11, 21, 32, 32, 45]"
            ]
          },
          "metadata": {},
          "execution_count": 177
        }
      ]
    },
    {
      "cell_type": "code",
      "source": [
        ""
      ],
      "metadata": {
        "id": "8j5vIT4vuJDS"
      },
      "execution_count": null,
      "outputs": []
    }
  ]
}